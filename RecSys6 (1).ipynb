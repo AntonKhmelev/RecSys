{
 "cells": [
  {
   "cell_type": "code",
   "execution_count": 1,
   "id": "e3d78ae4",
   "metadata": {},
   "outputs": [],
   "source": [
    "import pandas as pd\n",
    "import numpy as np\n",
    "import matplotlib.pyplot as plt\n",
    "%matplotlib inline\n",
    "\n",
    "# Для работы с матрицами\n",
    "from scipy.sparse import csr_matrix\n",
    "\n",
    "# Матричная факторизация\n",
    "from implicit import als\n",
    "\n",
    "# Модель второго уровня\n",
    "from lightgbm import LGBMClassifier\n",
    "\n",
    "import os, sys\n",
    "module_path = os.path.abspath(os.path.join(os.pardir))\n",
    "if module_path not in sys.path:\n",
    "    sys.path.append(module_path)\n",
    "\n",
    "# Написанные нами функции\n",
    "#from src.metrics import precision_at_k, recall_at_k\n",
    "#from src.utils import prefilter_items\n",
    "#from src.recommenders import MainRecommender"
   ]
  },
  {
   "cell_type": "code",
   "execution_count": 2,
   "id": "ab49fb49",
   "metadata": {},
   "outputs": [
    {
     "data": {
      "text/html": [
       "<div>\n",
       "<style scoped>\n",
       "    .dataframe tbody tr th:only-of-type {\n",
       "        vertical-align: middle;\n",
       "    }\n",
       "\n",
       "    .dataframe tbody tr th {\n",
       "        vertical-align: top;\n",
       "    }\n",
       "\n",
       "    .dataframe thead th {\n",
       "        text-align: right;\n",
       "    }\n",
       "</style>\n",
       "<table border=\"1\" class=\"dataframe\">\n",
       "  <thead>\n",
       "    <tr style=\"text-align: right;\">\n",
       "      <th></th>\n",
       "      <th>user_id</th>\n",
       "      <th>basket_id</th>\n",
       "      <th>day</th>\n",
       "      <th>item_id</th>\n",
       "      <th>quantity</th>\n",
       "      <th>sales_value</th>\n",
       "      <th>store_id</th>\n",
       "      <th>retail_disc</th>\n",
       "      <th>trans_time</th>\n",
       "      <th>week_no</th>\n",
       "      <th>coupon_disc</th>\n",
       "      <th>coupon_match_disc</th>\n",
       "    </tr>\n",
       "  </thead>\n",
       "  <tbody>\n",
       "    <tr>\n",
       "      <th>0</th>\n",
       "      <td>2375</td>\n",
       "      <td>26984851472</td>\n",
       "      <td>1</td>\n",
       "      <td>1004906</td>\n",
       "      <td>1</td>\n",
       "      <td>1.39</td>\n",
       "      <td>364</td>\n",
       "      <td>-0.6</td>\n",
       "      <td>1631</td>\n",
       "      <td>1</td>\n",
       "      <td>0.0</td>\n",
       "      <td>0.0</td>\n",
       "    </tr>\n",
       "    <tr>\n",
       "      <th>1</th>\n",
       "      <td>2375</td>\n",
       "      <td>26984851472</td>\n",
       "      <td>1</td>\n",
       "      <td>1033142</td>\n",
       "      <td>1</td>\n",
       "      <td>0.82</td>\n",
       "      <td>364</td>\n",
       "      <td>0.0</td>\n",
       "      <td>1631</td>\n",
       "      <td>1</td>\n",
       "      <td>0.0</td>\n",
       "      <td>0.0</td>\n",
       "    </tr>\n",
       "  </tbody>\n",
       "</table>\n",
       "</div>"
      ],
      "text/plain": [
       "   user_id    basket_id  day  item_id  quantity  sales_value  store_id  \\\n",
       "0     2375  26984851472    1  1004906         1         1.39       364   \n",
       "1     2375  26984851472    1  1033142         1         0.82       364   \n",
       "\n",
       "   retail_disc  trans_time  week_no  coupon_disc  coupon_match_disc  \n",
       "0         -0.6        1631        1          0.0                0.0  \n",
       "1          0.0        1631        1          0.0                0.0  "
      ]
     },
     "execution_count": 2,
     "metadata": {},
     "output_type": "execute_result"
    }
   ],
   "source": [
    "data = pd.read_csv('K:/2020/Programming/Data Science/Рекомендательные системы/Урок 3/test/retail_train.csv')\n",
    "item_features = pd.read_csv('K:/2020/Programming/Data Science/Рекомендательные системы/Урок 3/test/product.csv')\n",
    "user_features = pd.read_csv('K:/2020/Programming/Data Science/Рекомендательные системы/Урок 3/test/hh_demographic.csv')\n",
    "\n",
    "# column processing\n",
    "item_features.columns = [col.lower() for col in item_features.columns]\n",
    "user_features.columns = [col.lower() for col in user_features.columns]\n",
    "\n",
    "item_features.rename(columns={'product_id': 'item_id'}, inplace=True)\n",
    "user_features.rename(columns={'household_key': 'user_id'}, inplace=True)\n",
    "\n",
    "\n",
    "# Важна схема обучения и валидации!\n",
    "# -- давние покупки -- | -- 6 недель -- | -- 3 недель -- \n",
    "# подобрать размер 2-ого датасета (6 недель) --> learning curve (зависимость метрики recall@k от размера датасета)\n",
    "val_lvl_1_size_weeks = 6\n",
    "val_lvl_2_size_weeks = 3\n",
    "\n",
    "data_train_lvl_1 = data[data['week_no'] < data['week_no'].max() - (val_lvl_1_size_weeks + val_lvl_2_size_weeks)]\n",
    "data_val_lvl_1 = data[(data['week_no'] >= data['week_no'].max() - (val_lvl_1_size_weeks + val_lvl_2_size_weeks)) &\n",
    "                      (data['week_no'] < data['week_no'].max() - (val_lvl_2_size_weeks))]\n",
    "\n",
    "data_train_lvl_2 = data_val_lvl_1.copy()  # Для наглядности. Далее мы добавим изменения, и они будут отличаться\n",
    "data_val_lvl_2 = data[data['week_no'] >= data['week_no'].max() - val_lvl_2_size_weeks]\n",
    "\n",
    "data_train_lvl_1.head(2)"
   ]
  },
  {
   "cell_type": "code",
   "execution_count": 3,
   "id": "9999f3e5",
   "metadata": {},
   "outputs": [],
   "source": [
    "# recommenders\n",
    "\n",
    "import pandas as pd\n",
    "import numpy as np\n",
    "\n",
    "# Для работы с матрицами\n",
    "from scipy.sparse import csr_matrix\n",
    "\n",
    "# Матричная факторизация\n",
    "from implicit.als import AlternatingLeastSquares\n",
    "from implicit.nearest_neighbours import ItemItemRecommender  # нужен для одного трюка\n",
    "from implicit.nearest_neighbours import bm25_weight, tfidf_weight\n",
    "\n",
    "\n",
    "class MainRecommender:\n",
    "    \"\"\"Рекоммендации, которые можно получить из ALS\n",
    "    Input\n",
    "    -----\n",
    "    user_item_matrix: pd.DataFrame\n",
    "        Матрица взаимодействий user-item\n",
    "    \"\"\"\n",
    "\n",
    "    def __init__(self, data, weighting=True):\n",
    "\n",
    "        # Топ покупок каждого юзера\n",
    "        self.top_purchases = data.groupby(['user_id', 'item_id'])['quantity'].count().reset_index()\n",
    "        self.top_purchases.sort_values('quantity', ascending=False, inplace=True)\n",
    "        self.top_purchases = self.top_purchases[self.top_purchases['item_id'] != 999999]\n",
    "\n",
    "        # Топ покупок по всему датасету\n",
    "        self.overall_top_purchases = data.groupby('item_id')['quantity'].count().reset_index()\n",
    "        self.overall_top_purchases.sort_values('quantity', ascending=False, inplace=True)\n",
    "        self.overall_top_purchases = self.overall_top_purchases[self.overall_top_purchases['item_id'] != 999999]\n",
    "        self.overall_top_purchases = self.overall_top_purchases.item_id.tolist()\n",
    "\n",
    "        self.user_item_matrix = self._prepare_matrix(data)  # pd.DataFrame\n",
    "        self.id_to_itemid, self.id_to_userid, \\\n",
    "            self.itemid_to_id, self.userid_to_id = self._prepare_dicts(self.user_item_matrix)\n",
    "\n",
    "        if weighting:\n",
    "            self.user_item_matrix = bm25_weight(self.user_item_matrix.T).T\n",
    "\n",
    "        self.model = self.fit(self.user_item_matrix)\n",
    "        self.own_recommender = self.fit_own_recommender(self.user_item_matrix)\n",
    "\n",
    "    @staticmethod\n",
    "    def _prepare_matrix(data):\n",
    "        \"\"\"Готовит user-item матрицу\"\"\"\n",
    "        user_item_matrix = pd.pivot_table(data,\n",
    "                                          index='user_id', columns='item_id',\n",
    "                                          values='quantity',  # Можно пробовать другие варианты\n",
    "                                          aggfunc='count',\n",
    "                                          fill_value=0\n",
    "                                          )\n",
    "\n",
    "        user_item_matrix = user_item_matrix.astype(float)  # необходимый тип матрицы для implicit\n",
    "\n",
    "        return user_item_matrix\n",
    "\n",
    "    @staticmethod\n",
    "    def _prepare_dicts(user_item_matrix):\n",
    "        \"\"\"Подготавливает вспомогательные словари\"\"\"\n",
    "\n",
    "        userids = user_item_matrix.index.values\n",
    "        itemids = user_item_matrix.columns.values\n",
    "\n",
    "        matrix_userids = np.arange(len(userids))\n",
    "        matrix_itemids = np.arange(len(itemids))\n",
    "\n",
    "        id_to_itemid = dict(zip(matrix_itemids, itemids))\n",
    "        id_to_userid = dict(zip(matrix_userids, userids))\n",
    "\n",
    "        itemid_to_id = dict(zip(itemids, matrix_itemids))\n",
    "        userid_to_id = dict(zip(userids, matrix_userids))\n",
    "\n",
    "        return id_to_itemid, id_to_userid, itemid_to_id, userid_to_id\n",
    "\n",
    "    @staticmethod\n",
    "    def fit_own_recommender(user_item_matrix):\n",
    "        \"\"\"Обучает модель, которая рекомендует товары, среди товаров, купленных юзером\"\"\"\n",
    "\n",
    "        own_recommender = ItemItemRecommender(K=1, num_threads=4)\n",
    "        own_recommender.fit(csr_matrix(user_item_matrix).T.tocsr())\n",
    "\n",
    "        return own_recommender\n",
    "\n",
    "    @staticmethod\n",
    "    def fit(user_item_matrix, n_factors=20, regularization=0.001, iterations=15, num_threads=4):\n",
    "        \"\"\"Обучает ALS\"\"\"\n",
    "\n",
    "        model = AlternatingLeastSquares(factors=n_factors,\n",
    "                                        regularization=regularization,\n",
    "                                        iterations=iterations,\n",
    "                                        num_threads=num_threads)\n",
    "        model.fit(csr_matrix(user_item_matrix).T.tocsr())\n",
    "\n",
    "        return model\n",
    "\n",
    "    def _update_dict(self, user_id):\n",
    "        \"\"\"Если появился новыю user / item, то нужно обновить словари\"\"\"\n",
    "\n",
    "        if user_id not in self.userid_to_id.keys():\n",
    "\n",
    "            max_id = max(list(self.userid_to_id.values()))\n",
    "            max_id += 1\n",
    "\n",
    "            self.userid_to_id.update({user_id: max_id})\n",
    "            self.id_to_userid.update({max_id: user_id})\n",
    "\n",
    "    def _get_similar_item(self, item_id):\n",
    "        \"\"\"Находит товар, похожий на item_id\"\"\"\n",
    "        recs = self.model.similar_items(self.itemid_to_id[item_id], N=2)  # Товар похож на себя -> рекомендуем 2 товара\n",
    "        top_rec = recs[1][0]  # И берем второй (не товар из аргумента метода)\n",
    "        return self.id_to_itemid[top_rec]\n",
    "\n",
    "    def _extend_with_top_popular(self, recommendations, N=5):\n",
    "        \"\"\"Если кол-во рекоммендаций < N, то дополняем их топ-популярными\"\"\"\n",
    "\n",
    "        if len(recommendations) < N:\n",
    "            recommendations.extend(self.overall_top_purchases[:N])\n",
    "            recommendations = recommendations[:N]\n",
    "\n",
    "        return recommendations\n",
    "\n",
    "    def _get_recommendations(self, user, model, N=5):\n",
    "        \"\"\"Рекомендации через стардартные библиотеки implicit\"\"\"\n",
    "\n",
    "        self._update_dict(user_id=user)\n",
    "        res = [self.id_to_itemid[rec[0]] for rec in model.recommend(userid=self.userid_to_id[user],\n",
    "                                        user_items=csr_matrix(self.user_item_matrix).tocsr(),\n",
    "                                        N=N,\n",
    "                                        filter_already_liked_items=False,\n",
    "                                        filter_items=[self.itemid_to_id[999999]],\n",
    "                                        recalculate_user=True)]\n",
    "\n",
    "        res = self._extend_with_top_popular(res, N=N)\n",
    "\n",
    "        assert len(res) == N, 'Количество рекомендаций != {}'.format(N)\n",
    "        return res\n",
    "\n",
    "    def get_als_recommendations(self, user, N=5):\n",
    "        \"\"\"Рекомендации через стардартные библиотеки implicit\"\"\"\n",
    "\n",
    "        self._update_dict(user_id=user)\n",
    "        return self._get_recommendations(user, model=self.model, N=N)\n",
    "\n",
    "    def get_own_recommendations(self, user, N=5):\n",
    "        \"\"\"Рекомендуем товары среди тех, которые юзер уже купил\"\"\"\n",
    "\n",
    "        self._update_dict(user_id=user)\n",
    "        return self._get_recommendations(user, model=self.own_recommender, N=N)\n",
    "\n",
    "    def get_similar_items_recommendation(self, user, N=5):\n",
    "        \"\"\"Рекомендуем товары, похожие на топ-N купленных юзером товаров\"\"\"\n",
    "\n",
    "        top_users_purchases = self.top_purchases[self.top_purchases['user_id'] == user].head(N)\n",
    "\n",
    "        res = top_users_purchases['item_id'].apply(lambda x: self._get_similar_item(x)).tolist()\n",
    "        res = self._extend_with_top_popular(res, N=N)\n",
    "\n",
    "        assert len(res) == N, 'Количество рекомендаций != {}'.format(N)\n",
    "        return res\n",
    "\n",
    "    def get_similar_users_recommendation(self, user, N=5):\n",
    "        \"\"\"Рекомендуем топ-N товаров, среди купленных похожими юзерами\"\"\"\n",
    "\n",
    "        res = []\n",
    "\n",
    "        # Находим топ-N похожих пользователей\n",
    "        similar_users = self.model.similar_users(self.userid_to_id[user], N=N+1)\n",
    "        similar_users = [rec[0] for rec in similar_users]\n",
    "        similar_users = similar_users[1:]   # удалим юзера из запроса\n",
    "\n",
    "        for user in similar_users:\n",
    "            res.extend(self.get_own_recommendations(user, N=1))\n",
    "\n",
    "        res = self._extend_with_top_popular(res, N=N)\n",
    "\n",
    "        assert len(res) == N, 'Количество рекомендаций != {}'.format(N)\n",
    "        return res"
   ]
  },
  {
   "cell_type": "code",
   "execution_count": 4,
   "id": "a9b98bef",
   "metadata": {},
   "outputs": [],
   "source": [
    "# metrics\n",
    "\n",
    "import numpy as np\n",
    "\n",
    "\n",
    "def precision(recommended_list, bought_list):\n",
    "    bought_list = np.array(bought_list)\n",
    "    recommended_list = np.array(recommended_list)\n",
    "\n",
    "    flags = np.isin(bought_list, recommended_list)\n",
    "\n",
    "    precision = flags.sum() / len(recommended_list)\n",
    "\n",
    "    return precision\n",
    "\n",
    "\n",
    "def precision_at_k(recommended_list, bought_list, k=5):\n",
    "    bought_list = np.array(bought_list)\n",
    "    recommended_list = np.array(recommended_list)\n",
    "    \n",
    "\n",
    "    bought_list = bought_list  # Тут нет [:k] !!\n",
    "    \n",
    "    if k < len(recommended_list):\n",
    "        recommended_list = recommended_list[:k]\n",
    "\n",
    "    flags = np.isin(bought_list, recommended_list)\n",
    "\n",
    "    precision = flags.sum() / len(recommended_list)\n",
    "\n",
    "    return precision\n",
    "\n",
    "\n",
    "def money_precision_at_k(recommended_list, bought_list, prices_recommended, k=5):\n",
    "    # your_code\n",
    "    # Лучше считать через скалярное произведение, а не цикл\n",
    "\n",
    "    return precision\n",
    "\n",
    "\n",
    "def recall(recommended_list, bought_list):\n",
    "    bought_list = np.array(bought_list)\n",
    "    recommended_list = np.array(recommended_list)\n",
    "\n",
    "    flags = np.isin(bought_list, recommended_list)\n",
    "\n",
    "    recall = flags.sum() / len(bought_list)\n",
    "\n",
    "    return recall\n",
    "\n",
    "\n",
    "def recall_at_k(recommended_list, bought_list, k=5):\n",
    "\n",
    "    bought_list = np.array(bought_list)\n",
    "    recommended_list = np.array(recommended_list)\n",
    "\n",
    "    if k < len(recommended_list):\n",
    "        recommended_list = recommended_list[:k]\n",
    "\n",
    "    flags = np.isin(bought_list, recommended_list)\n",
    "    recall = flags.sum() / len(bought_list)\n",
    "\n",
    "    return recall\n",
    "\n",
    "\n",
    "def money_recall_at_k(recommended_list, bought_list, prices_recommended, prices_bought, k=5):\n",
    "    # your_code\n",
    "\n",
    "    return recall"
   ]
  },
  {
   "cell_type": "code",
   "execution_count": 5,
   "id": "de988639",
   "metadata": {},
   "outputs": [],
   "source": [
    "# utils\n",
    "\n",
    "import pandas as pd\n",
    "import numpy as np\n",
    "\n",
    "\n",
    "def prefilter_items(data, take_n_popular=5000, item_features=None):\n",
    "    # Уберем самые популярные товары (их и так купят)\n",
    "    popularity = data.groupby('item_id')['user_id'].nunique().reset_index() / data['user_id'].nunique()\n",
    "    popularity.rename(columns={'user_id': 'share_unique_users'}, inplace=True)\n",
    "\n",
    "    top_popular = popularity[popularity['share_unique_users'] > 0.2].item_id.tolist()\n",
    "    data = data[~data['item_id'].isin(top_popular)]\n",
    "\n",
    "    # Уберем самые НЕ популярные товары (их и так НЕ купят)\n",
    "    top_notpopular = popularity[popularity['share_unique_users'] < 0.02].item_id.tolist()\n",
    "    data = data[~data['item_id'].isin(top_notpopular)]\n",
    "\n",
    "    # Уберем товары, которые не продавались за последние 12 месяцев\n",
    "\n",
    "    # Уберем не интересные для рекоммендаций категории (department)\n",
    "    if item_features is not None:\n",
    "        department_size = pd.DataFrame(item_features.\\\n",
    "                                        groupby('department')['item_id'].nunique().\\\n",
    "                                        sort_values(ascending=False)).reset_index()\n",
    "\n",
    "        department_size.columns = ['department', 'n_items']\n",
    "        rare_departments = department_size[department_size['n_items'] < 150].department.tolist()\n",
    "        items_in_rare_departments = item_features[item_features['department'].isin(rare_departments)].item_id.unique().tolist()\n",
    "\n",
    "        data = data[~data['item_id'].isin(items_in_rare_departments)]\n",
    "\n",
    "\n",
    "    # Уберем слишком дешевые товары (на них не заработаем). 1 покупка из рассылок стоит 60 руб.\n",
    "    data['price'] = data['sales_value'] / (np.maximum(data['quantity'], 1))\n",
    "    data = data[data['price'] > 2]\n",
    "\n",
    "    # Уберем слишком дорогие товарыs\n",
    "    data = data[data['price'] < 50]\n",
    "\n",
    "    # Возбмем топ по популярности\n",
    "    popularity = data.groupby('item_id')['quantity'].sum().reset_index()\n",
    "    popularity.rename(columns={'quantity': 'n_sold'}, inplace=True)\n",
    "\n",
    "    top = popularity.sort_values('n_sold', ascending=False).head(take_n_popular).item_id.tolist()\n",
    "    \n",
    "    # Заведем фиктивный item_id (если юзер покупал товары из топ-5000, то он \"купил\" такой товар)\n",
    "    data.loc[~data['item_id'].isin(top), 'item_id'] = 999999\n",
    "    \n",
    "    # ...\n",
    "\n",
    "    return data\n",
    "\n",
    "\n",
    "def postfilter_items(user_id, recommednations):\n",
    "    pass"
   ]
  },
  {
   "cell_type": "code",
   "execution_count": 6,
   "id": "80615f9f",
   "metadata": {},
   "outputs": [
    {
     "name": "stdout",
     "output_type": "stream",
     "text": [
      "Decreased # items from 83685 to 5001\n"
     ]
    }
   ],
   "source": [
    "n_items_before = data_train_lvl_1['item_id'].nunique()\n",
    "\n",
    "data_train_lvl_1 = prefilter_items(data_train_lvl_1, item_features=item_features, take_n_popular=5000)\n",
    "\n",
    "n_items_after = data_train_lvl_1['item_id'].nunique()\n",
    "print('Decreased # items from {} to {}'.format(n_items_before, n_items_after))"
   ]
  },
  {
   "cell_type": "code",
   "execution_count": 7,
   "id": "ec8e55dd",
   "metadata": {},
   "outputs": [
    {
     "name": "stderr",
     "output_type": "stream",
     "text": [
      "WARNING:root:Intel MKL BLAS detected. Its highly recommend to set the environment variable 'export MKL_NUM_THREADS=1' to disable its internal multithreading\n"
     ]
    },
    {
     "data": {
      "application/vnd.jupyter.widget-view+json": {
       "model_id": "0e89dc5582044d539a16548b60a6ab78",
       "version_major": 2,
       "version_minor": 0
      },
      "text/plain": [
       "  0%|          | 0/15 [00:00<?, ?it/s]"
      ]
     },
     "metadata": {},
     "output_type": "display_data"
    },
    {
     "data": {
      "application/vnd.jupyter.widget-view+json": {
       "model_id": "10af0c6a8f45478da752e7600a1aa410",
       "version_major": 2,
       "version_minor": 0
      },
      "text/plain": [
       "  0%|          | 0/5001 [00:00<?, ?it/s]"
      ]
     },
     "metadata": {},
     "output_type": "display_data"
    }
   ],
   "source": [
    "recommender = MainRecommender(data_train_lvl_1)"
   ]
  },
  {
   "cell_type": "code",
   "execution_count": 8,
   "id": "2c40dcd6",
   "metadata": {},
   "outputs": [
    {
     "data": {
      "text/plain": [
       "<__main__.MainRecommender at 0x1fc19494850>"
      ]
     },
     "execution_count": 8,
     "metadata": {},
     "output_type": "execute_result"
    }
   ],
   "source": [
    "recommender"
   ]
  },
  {
   "cell_type": "code",
   "execution_count": 9,
   "id": "080ab0de",
   "metadata": {},
   "outputs": [
    {
     "data": {
      "text/plain": [
       "[1106523, 899624, 871756, 1044078, 883932]"
      ]
     },
     "execution_count": 9,
     "metadata": {},
     "output_type": "execute_result"
    }
   ],
   "source": [
    "recommender.get_als_recommendations(2375, N=5)"
   ]
  },
  {
   "cell_type": "code",
   "execution_count": 10,
   "id": "54caaf76",
   "metadata": {},
   "outputs": [
    {
     "data": {
      "text/plain": [
       "[948640, 918046, 847962, 907099, 873980]"
      ]
     },
     "execution_count": 10,
     "metadata": {},
     "output_type": "execute_result"
    }
   ],
   "source": [
    "recommender.get_own_recommendations(2375, N=5)"
   ]
  },
  {
   "cell_type": "code",
   "execution_count": 11,
   "id": "d45dced7",
   "metadata": {},
   "outputs": [
    {
     "data": {
      "text/plain": [
       "[1046545, 7147915, 1044078, 907099, 846764]"
      ]
     },
     "execution_count": 11,
     "metadata": {},
     "output_type": "execute_result"
    }
   ],
   "source": [
    "recommender.get_similar_items_recommendation(2375, N=5)"
   ]
  },
  {
   "cell_type": "code",
   "execution_count": 12,
   "id": "d6b89595",
   "metadata": {},
   "outputs": [
    {
     "data": {
      "text/plain": [
       "[820612, 5574377, 1012801, 1101502, 9553048]"
      ]
     },
     "execution_count": 12,
     "metadata": {},
     "output_type": "execute_result"
    }
   ],
   "source": [
    "recommender.get_similar_users_recommendation(2375, N=5)"
   ]
  },
  {
   "cell_type": "code",
   "execution_count": 13,
   "id": "61e23aad",
   "metadata": {},
   "outputs": [
    {
     "data": {
      "text/html": [
       "<div>\n",
       "<style scoped>\n",
       "    .dataframe tbody tr th:only-of-type {\n",
       "        vertical-align: middle;\n",
       "    }\n",
       "\n",
       "    .dataframe tbody tr th {\n",
       "        vertical-align: top;\n",
       "    }\n",
       "\n",
       "    .dataframe thead th {\n",
       "        text-align: right;\n",
       "    }\n",
       "</style>\n",
       "<table border=\"1\" class=\"dataframe\">\n",
       "  <thead>\n",
       "    <tr style=\"text-align: right;\">\n",
       "      <th></th>\n",
       "      <th>user_id</th>\n",
       "      <th>actual</th>\n",
       "    </tr>\n",
       "  </thead>\n",
       "  <tbody>\n",
       "    <tr>\n",
       "      <th>0</th>\n",
       "      <td>1</td>\n",
       "      <td>[853529, 865456, 867607, 872137, 874905, 87524...</td>\n",
       "    </tr>\n",
       "    <tr>\n",
       "      <th>1</th>\n",
       "      <td>2</td>\n",
       "      <td>[15830248, 838136, 839656, 861272, 866211, 870...</td>\n",
       "    </tr>\n",
       "  </tbody>\n",
       "</table>\n",
       "</div>"
      ],
      "text/plain": [
       "   user_id                                             actual\n",
       "0        1  [853529, 865456, 867607, 872137, 874905, 87524...\n",
       "1        2  [15830248, 838136, 839656, 861272, 866211, 870..."
      ]
     },
     "execution_count": 13,
     "metadata": {},
     "output_type": "execute_result"
    }
   ],
   "source": [
    "result_lvl_1 = data_val_lvl_1.groupby('user_id')['item_id'].unique().reset_index()\n",
    "result_lvl_1.columns=['user_id', 'actual']\n",
    "result_lvl_1.head(2)"
   ]
  },
  {
   "cell_type": "code",
   "execution_count": 14,
   "id": "642707fc",
   "metadata": {},
   "outputs": [
    {
     "name": "stdout",
     "output_type": "stream",
     "text": [
      "Decreased # items from 27649 to 5001\n"
     ]
    }
   ],
   "source": [
    "n_items_before = data_val_lvl_1['item_id'].nunique()\n",
    "\n",
    "data_val_lvl_1 = prefilter_items(data_val_lvl_1, item_features=item_features, take_n_popular=5000)\n",
    "\n",
    "n_items_after = data_val_lvl_1['item_id'].nunique()\n",
    "print('Decreased # items from {} to {}'.format(n_items_before, n_items_after))"
   ]
  },
  {
   "cell_type": "code",
   "execution_count": 15,
   "id": "62d37eb3",
   "metadata": {},
   "outputs": [],
   "source": [
    "# Проверим метрики recall_at_k по моделям als, own и similar_items - наибольшая у own"
   ]
  },
  {
   "cell_type": "code",
   "execution_count": 16,
   "id": "d44c1b75",
   "metadata": {},
   "outputs": [
    {
     "data": {
      "application/vnd.jupyter.widget-view+json": {
       "model_id": "9892ea73cea942d4a73230dad0eca78a",
       "version_major": 2,
       "version_minor": 0
      },
      "text/plain": [
       "  0%|          | 0/15 [00:00<?, ?it/s]"
      ]
     },
     "metadata": {},
     "output_type": "display_data"
    },
    {
     "data": {
      "application/vnd.jupyter.widget-view+json": {
       "model_id": "09e09f5bb78546588450230c0c0126c2",
       "version_major": 2,
       "version_minor": 0
      },
      "text/plain": [
       "  0%|          | 0/5001 [00:00<?, ?it/s]"
      ]
     },
     "metadata": {},
     "output_type": "display_data"
    }
   ],
   "source": [
    "recommender = MainRecommender(data_val_lvl_1)"
   ]
  },
  {
   "cell_type": "code",
   "execution_count": 17,
   "id": "848fb1cd",
   "metadata": {},
   "outputs": [
    {
     "data": {
      "text/html": [
       "<div>\n",
       "<style scoped>\n",
       "    .dataframe tbody tr th:only-of-type {\n",
       "        vertical-align: middle;\n",
       "    }\n",
       "\n",
       "    .dataframe tbody tr th {\n",
       "        vertical-align: top;\n",
       "    }\n",
       "\n",
       "    .dataframe thead th {\n",
       "        text-align: right;\n",
       "    }\n",
       "</style>\n",
       "<table border=\"1\" class=\"dataframe\">\n",
       "  <thead>\n",
       "    <tr style=\"text-align: right;\">\n",
       "      <th></th>\n",
       "      <th>user_id</th>\n",
       "      <th>actual</th>\n",
       "    </tr>\n",
       "  </thead>\n",
       "  <tbody>\n",
       "    <tr>\n",
       "      <th>0</th>\n",
       "      <td>1</td>\n",
       "      <td>[865456, 999999, 878285, 922281, 940947, 98389...</td>\n",
       "    </tr>\n",
       "    <tr>\n",
       "      <th>1</th>\n",
       "      <td>2</td>\n",
       "      <td>[999999, 839656, 866211, 970481, 980666, 10114...</td>\n",
       "    </tr>\n",
       "  </tbody>\n",
       "</table>\n",
       "</div>"
      ],
      "text/plain": [
       "   user_id                                             actual\n",
       "0        1  [865456, 999999, 878285, 922281, 940947, 98389...\n",
       "1        2  [999999, 839656, 866211, 970481, 980666, 10114..."
      ]
     },
     "execution_count": 17,
     "metadata": {},
     "output_type": "execute_result"
    }
   ],
   "source": [
    "result_lvl_1 = data_val_lvl_1.groupby('user_id')['item_id'].unique().reset_index()\n",
    "result_lvl_1.columns=['user_id', 'actual']\n",
    "result_lvl_1.head(2)"
   ]
  },
  {
   "cell_type": "code",
   "execution_count": 18,
   "id": "c00797fe",
   "metadata": {},
   "outputs": [],
   "source": [
    "result_lvl_1['als'] = result_lvl_1['user_id'].apply(lambda x: recommender.get_als_recommendations(x, N=50))"
   ]
  },
  {
   "cell_type": "code",
   "execution_count": 19,
   "id": "42543c45",
   "metadata": {},
   "outputs": [
    {
     "data": {
      "text/html": [
       "<div>\n",
       "<style scoped>\n",
       "    .dataframe tbody tr th:only-of-type {\n",
       "        vertical-align: middle;\n",
       "    }\n",
       "\n",
       "    .dataframe tbody tr th {\n",
       "        vertical-align: top;\n",
       "    }\n",
       "\n",
       "    .dataframe thead th {\n",
       "        text-align: right;\n",
       "    }\n",
       "</style>\n",
       "<table border=\"1\" class=\"dataframe\">\n",
       "  <thead>\n",
       "    <tr style=\"text-align: right;\">\n",
       "      <th></th>\n",
       "      <th>user_id</th>\n",
       "      <th>actual</th>\n",
       "      <th>als</th>\n",
       "    </tr>\n",
       "  </thead>\n",
       "  <tbody>\n",
       "    <tr>\n",
       "      <th>0</th>\n",
       "      <td>1</td>\n",
       "      <td>[865456, 999999, 878285, 922281, 940947, 98389...</td>\n",
       "      <td>[8293439, 9297615, 1069103, 909497, 963542, 87...</td>\n",
       "    </tr>\n",
       "    <tr>\n",
       "      <th>1</th>\n",
       "      <td>2</td>\n",
       "      <td>[999999, 839656, 866211, 970481, 980666, 10114...</td>\n",
       "      <td>[1111116, 1103898, 970481, 9419487, 17215077, ...</td>\n",
       "    </tr>\n",
       "  </tbody>\n",
       "</table>\n",
       "</div>"
      ],
      "text/plain": [
       "   user_id                                             actual  \\\n",
       "0        1  [865456, 999999, 878285, 922281, 940947, 98389...   \n",
       "1        2  [999999, 839656, 866211, 970481, 980666, 10114...   \n",
       "\n",
       "                                                 als  \n",
       "0  [8293439, 9297615, 1069103, 909497, 963542, 87...  \n",
       "1  [1111116, 1103898, 970481, 9419487, 17215077, ...  "
      ]
     },
     "execution_count": 19,
     "metadata": {},
     "output_type": "execute_result"
    }
   ],
   "source": [
    "result_lvl_1.head(2)"
   ]
  },
  {
   "cell_type": "code",
   "execution_count": 20,
   "id": "70fedd19",
   "metadata": {},
   "outputs": [
    {
     "data": {
      "text/plain": [
       "0.16691575940381778"
      ]
     },
     "execution_count": 20,
     "metadata": {},
     "output_type": "execute_result"
    }
   ],
   "source": [
    "result_lvl_1.apply(lambda row: recall_at_k(row['als'], row['actual']), axis=1).mean()"
   ]
  },
  {
   "cell_type": "code",
   "execution_count": 21,
   "id": "58d83c0d",
   "metadata": {},
   "outputs": [
    {
     "data": {
      "text/html": [
       "<div>\n",
       "<style scoped>\n",
       "    .dataframe tbody tr th:only-of-type {\n",
       "        vertical-align: middle;\n",
       "    }\n",
       "\n",
       "    .dataframe tbody tr th {\n",
       "        vertical-align: top;\n",
       "    }\n",
       "\n",
       "    .dataframe thead th {\n",
       "        text-align: right;\n",
       "    }\n",
       "</style>\n",
       "<table border=\"1\" class=\"dataframe\">\n",
       "  <thead>\n",
       "    <tr style=\"text-align: right;\">\n",
       "      <th></th>\n",
       "      <th>user_id</th>\n",
       "      <th>actual</th>\n",
       "      <th>als</th>\n",
       "      <th>own</th>\n",
       "    </tr>\n",
       "  </thead>\n",
       "  <tbody>\n",
       "    <tr>\n",
       "      <th>0</th>\n",
       "      <td>1</td>\n",
       "      <td>[865456, 999999, 878285, 922281, 940947, 98389...</td>\n",
       "      <td>[8293439, 9297615, 1069103, 909497, 963542, 87...</td>\n",
       "      <td>[8293439, 1069103, 8293343, 9297615, 983897, 9...</td>\n",
       "    </tr>\n",
       "    <tr>\n",
       "      <th>1</th>\n",
       "      <td>2</td>\n",
       "      <td>[999999, 839656, 866211, 970481, 980666, 10114...</td>\n",
       "      <td>[1111116, 1103898, 970481, 9419487, 17215077, ...</td>\n",
       "      <td>[1111116, 7407562, 970481, 8357614, 997987, 11...</td>\n",
       "    </tr>\n",
       "  </tbody>\n",
       "</table>\n",
       "</div>"
      ],
      "text/plain": [
       "   user_id                                             actual  \\\n",
       "0        1  [865456, 999999, 878285, 922281, 940947, 98389...   \n",
       "1        2  [999999, 839656, 866211, 970481, 980666, 10114...   \n",
       "\n",
       "                                                 als  \\\n",
       "0  [8293439, 9297615, 1069103, 909497, 963542, 87...   \n",
       "1  [1111116, 1103898, 970481, 9419487, 17215077, ...   \n",
       "\n",
       "                                                 own  \n",
       "0  [8293439, 1069103, 8293343, 9297615, 983897, 9...  \n",
       "1  [1111116, 7407562, 970481, 8357614, 997987, 11...  "
      ]
     },
     "execution_count": 21,
     "metadata": {},
     "output_type": "execute_result"
    }
   ],
   "source": [
    "result_lvl_1['own'] = result_lvl_1['user_id'].apply(lambda x: recommender.get_own_recommendations(x, N=50))\n",
    "result_lvl_1.head(2)"
   ]
  },
  {
   "cell_type": "code",
   "execution_count": 22,
   "id": "e828e340",
   "metadata": {},
   "outputs": [
    {
     "data": {
      "text/plain": [
       "0.36303367135278547"
      ]
     },
     "execution_count": 22,
     "metadata": {},
     "output_type": "execute_result"
    }
   ],
   "source": [
    "result_lvl_1.apply(lambda row: recall_at_k(row['own'], row['actual']), axis=1).mean()"
   ]
  },
  {
   "cell_type": "code",
   "execution_count": 23,
   "id": "82e6988c",
   "metadata": {},
   "outputs": [
    {
     "data": {
      "text/html": [
       "<div>\n",
       "<style scoped>\n",
       "    .dataframe tbody tr th:only-of-type {\n",
       "        vertical-align: middle;\n",
       "    }\n",
       "\n",
       "    .dataframe tbody tr th {\n",
       "        vertical-align: top;\n",
       "    }\n",
       "\n",
       "    .dataframe thead th {\n",
       "        text-align: right;\n",
       "    }\n",
       "</style>\n",
       "<table border=\"1\" class=\"dataframe\">\n",
       "  <thead>\n",
       "    <tr style=\"text-align: right;\">\n",
       "      <th></th>\n",
       "      <th>user_id</th>\n",
       "      <th>actual</th>\n",
       "      <th>als</th>\n",
       "      <th>own</th>\n",
       "      <th>similar_items</th>\n",
       "    </tr>\n",
       "  </thead>\n",
       "  <tbody>\n",
       "    <tr>\n",
       "      <th>0</th>\n",
       "      <td>1</td>\n",
       "      <td>[865456, 999999, 878285, 922281, 940947, 98389...</td>\n",
       "      <td>[8293439, 9297615, 1069103, 909497, 963542, 87...</td>\n",
       "      <td>[8293439, 1069103, 8293343, 9297615, 983897, 9...</td>\n",
       "      <td>[13002975, 5569230, 5563693, 899624, 1104343, ...</td>\n",
       "    </tr>\n",
       "    <tr>\n",
       "      <th>1</th>\n",
       "      <td>2</td>\n",
       "      <td>[999999, 839656, 866211, 970481, 980666, 10114...</td>\n",
       "      <td>[1111116, 1103898, 970481, 9419487, 17215077, ...</td>\n",
       "      <td>[1111116, 7407562, 970481, 8357614, 997987, 11...</td>\n",
       "      <td>[844282, 844179, 12301100, 848029, 1127831, 99...</td>\n",
       "    </tr>\n",
       "  </tbody>\n",
       "</table>\n",
       "</div>"
      ],
      "text/plain": [
       "   user_id                                             actual  \\\n",
       "0        1  [865456, 999999, 878285, 922281, 940947, 98389...   \n",
       "1        2  [999999, 839656, 866211, 970481, 980666, 10114...   \n",
       "\n",
       "                                                 als  \\\n",
       "0  [8293439, 9297615, 1069103, 909497, 963542, 87...   \n",
       "1  [1111116, 1103898, 970481, 9419487, 17215077, ...   \n",
       "\n",
       "                                                 own  \\\n",
       "0  [8293439, 1069103, 8293343, 9297615, 983897, 9...   \n",
       "1  [1111116, 7407562, 970481, 8357614, 997987, 11...   \n",
       "\n",
       "                                       similar_items  \n",
       "0  [13002975, 5569230, 5563693, 899624, 1104343, ...  \n",
       "1  [844282, 844179, 12301100, 848029, 1127831, 99...  "
      ]
     },
     "execution_count": 23,
     "metadata": {},
     "output_type": "execute_result"
    }
   ],
   "source": [
    "result_lvl_1['similar_items'] = result_lvl_1['user_id'].apply(lambda x: recommender.get_similar_items_recommendation(x, N=50))\n",
    "result_lvl_1.head(2)"
   ]
  },
  {
   "cell_type": "code",
   "execution_count": 24,
   "id": "ed1f456a",
   "metadata": {},
   "outputs": [
    {
     "data": {
      "text/plain": [
       "0.04065637693050815"
      ]
     },
     "execution_count": 24,
     "metadata": {},
     "output_type": "execute_result"
    }
   ],
   "source": [
    "result_lvl_1.apply(lambda row: recall_at_k(row['similar_items'], row['actual']), axis=1).mean()"
   ]
  },
  {
   "cell_type": "code",
   "execution_count": 25,
   "id": "a5a184d9",
   "metadata": {},
   "outputs": [],
   "source": [
    "# построим модель 2-го уровня на данных data_val_lvl_2"
   ]
  },
  {
   "cell_type": "code",
   "execution_count": 26,
   "id": "8064737f",
   "metadata": {},
   "outputs": [
    {
     "data": {
      "text/html": [
       "<div>\n",
       "<style scoped>\n",
       "    .dataframe tbody tr th:only-of-type {\n",
       "        vertical-align: middle;\n",
       "    }\n",
       "\n",
       "    .dataframe tbody tr th {\n",
       "        vertical-align: top;\n",
       "    }\n",
       "\n",
       "    .dataframe thead th {\n",
       "        text-align: right;\n",
       "    }\n",
       "</style>\n",
       "<table border=\"1\" class=\"dataframe\">\n",
       "  <thead>\n",
       "    <tr style=\"text-align: right;\">\n",
       "      <th></th>\n",
       "      <th>item_id</th>\n",
       "      <th>manufacturer</th>\n",
       "      <th>department</th>\n",
       "      <th>brand</th>\n",
       "      <th>commodity_desc</th>\n",
       "      <th>sub_commodity_desc</th>\n",
       "      <th>curr_size_of_product</th>\n",
       "    </tr>\n",
       "  </thead>\n",
       "  <tbody>\n",
       "    <tr>\n",
       "      <th>0</th>\n",
       "      <td>25671</td>\n",
       "      <td>2</td>\n",
       "      <td>GROCERY</td>\n",
       "      <td>National</td>\n",
       "      <td>FRZN ICE</td>\n",
       "      <td>ICE - CRUSHED/CUBED</td>\n",
       "      <td>22 LB</td>\n",
       "    </tr>\n",
       "    <tr>\n",
       "      <th>1</th>\n",
       "      <td>26081</td>\n",
       "      <td>2</td>\n",
       "      <td>MISC. TRANS.</td>\n",
       "      <td>National</td>\n",
       "      <td>NO COMMODITY DESCRIPTION</td>\n",
       "      <td>NO SUBCOMMODITY DESCRIPTION</td>\n",
       "      <td></td>\n",
       "    </tr>\n",
       "  </tbody>\n",
       "</table>\n",
       "</div>"
      ],
      "text/plain": [
       "   item_id  manufacturer    department     brand            commodity_desc  \\\n",
       "0    25671             2       GROCERY  National                  FRZN ICE   \n",
       "1    26081             2  MISC. TRANS.  National  NO COMMODITY DESCRIPTION   \n",
       "\n",
       "            sub_commodity_desc curr_size_of_product  \n",
       "0          ICE - CRUSHED/CUBED                22 LB  \n",
       "1  NO SUBCOMMODITY DESCRIPTION                       "
      ]
     },
     "execution_count": 26,
     "metadata": {},
     "output_type": "execute_result"
    }
   ],
   "source": [
    "item_features.head(2)"
   ]
  },
  {
   "cell_type": "code",
   "execution_count": 27,
   "id": "83aaec88",
   "metadata": {},
   "outputs": [
    {
     "data": {
      "text/html": [
       "<div>\n",
       "<style scoped>\n",
       "    .dataframe tbody tr th:only-of-type {\n",
       "        vertical-align: middle;\n",
       "    }\n",
       "\n",
       "    .dataframe tbody tr th {\n",
       "        vertical-align: top;\n",
       "    }\n",
       "\n",
       "    .dataframe thead th {\n",
       "        text-align: right;\n",
       "    }\n",
       "</style>\n",
       "<table border=\"1\" class=\"dataframe\">\n",
       "  <thead>\n",
       "    <tr style=\"text-align: right;\">\n",
       "      <th></th>\n",
       "      <th>age_desc</th>\n",
       "      <th>marital_status_code</th>\n",
       "      <th>income_desc</th>\n",
       "      <th>homeowner_desc</th>\n",
       "      <th>hh_comp_desc</th>\n",
       "      <th>household_size_desc</th>\n",
       "      <th>kid_category_desc</th>\n",
       "      <th>user_id</th>\n",
       "    </tr>\n",
       "  </thead>\n",
       "  <tbody>\n",
       "    <tr>\n",
       "      <th>0</th>\n",
       "      <td>65+</td>\n",
       "      <td>A</td>\n",
       "      <td>35-49K</td>\n",
       "      <td>Homeowner</td>\n",
       "      <td>2 Adults No Kids</td>\n",
       "      <td>2</td>\n",
       "      <td>None/Unknown</td>\n",
       "      <td>1</td>\n",
       "    </tr>\n",
       "    <tr>\n",
       "      <th>1</th>\n",
       "      <td>45-54</td>\n",
       "      <td>A</td>\n",
       "      <td>50-74K</td>\n",
       "      <td>Homeowner</td>\n",
       "      <td>2 Adults No Kids</td>\n",
       "      <td>2</td>\n",
       "      <td>None/Unknown</td>\n",
       "      <td>7</td>\n",
       "    </tr>\n",
       "  </tbody>\n",
       "</table>\n",
       "</div>"
      ],
      "text/plain": [
       "  age_desc marital_status_code income_desc homeowner_desc      hh_comp_desc  \\\n",
       "0      65+                   A      35-49K      Homeowner  2 Adults No Kids   \n",
       "1    45-54                   A      50-74K      Homeowner  2 Adults No Kids   \n",
       "\n",
       "  household_size_desc kid_category_desc  user_id  \n",
       "0                   2      None/Unknown        1  \n",
       "1                   2      None/Unknown        7  "
      ]
     },
     "execution_count": 27,
     "metadata": {},
     "output_type": "execute_result"
    }
   ],
   "source": [
    "user_features.head(2)"
   ]
  },
  {
   "cell_type": "code",
   "execution_count": 28,
   "id": "fcc30783",
   "metadata": {},
   "outputs": [
    {
     "name": "stdout",
     "output_type": "stream",
     "text": [
      "Decreased # items from 24329 to 5001\n"
     ]
    }
   ],
   "source": [
    "n_items_before = data_val_lvl_2['item_id'].nunique()\n",
    "\n",
    "data_val_lvl_2 = prefilter_items(data_val_lvl_2, item_features=item_features, take_n_popular=5000)\n",
    "\n",
    "n_items_after = data_val_lvl_2['item_id'].nunique()\n",
    "print('Decreased # items from {} to {}'.format(n_items_before, n_items_after))"
   ]
  },
  {
   "cell_type": "code",
   "execution_count": 29,
   "id": "2e0e924f",
   "metadata": {},
   "outputs": [
    {
     "data": {
      "application/vnd.jupyter.widget-view+json": {
       "model_id": "254349c5da6d4de48d856b8ae9c6f64f",
       "version_major": 2,
       "version_minor": 0
      },
      "text/plain": [
       "  0%|          | 0/15 [00:00<?, ?it/s]"
      ]
     },
     "metadata": {},
     "output_type": "display_data"
    },
    {
     "data": {
      "application/vnd.jupyter.widget-view+json": {
       "model_id": "44f08ee5772c4f86837d7b21e8438181",
       "version_major": 2,
       "version_minor": 0
      },
      "text/plain": [
       "  0%|          | 0/5001 [00:00<?, ?it/s]"
      ]
     },
     "metadata": {},
     "output_type": "display_data"
    }
   ],
   "source": [
    "recommender = MainRecommender(data_val_lvl_2)"
   ]
  },
  {
   "cell_type": "code",
   "execution_count": 30,
   "id": "0e0fce8f",
   "metadata": {},
   "outputs": [
    {
     "data": {
      "text/plain": [
       "<__main__.MainRecommender at 0x1fc194942b0>"
      ]
     },
     "execution_count": 30,
     "metadata": {},
     "output_type": "execute_result"
    }
   ],
   "source": [
    "recommender"
   ]
  },
  {
   "cell_type": "code",
   "execution_count": 31,
   "id": "6c2256d3",
   "metadata": {},
   "outputs": [],
   "source": [
    "users_val_2 = pd.DataFrame(data_val_lvl_2['user_id'].unique())\n",
    "users_val_2.columns = ['user_id']\n",
    "\n",
    "# Пока только warm start\n",
    "train_users = data_val_lvl_2['user_id'].unique()\n",
    "users_val_2 = users_val_2[users_val_2['user_id'].isin(train_users)]\n",
    "\n",
    "users_val_2['candidates'] = users_val_2['user_id'].apply(lambda x: recommender.get_own_recommendations(x, N=50))"
   ]
  },
  {
   "cell_type": "code",
   "execution_count": 32,
   "id": "be536cbc",
   "metadata": {},
   "outputs": [
    {
     "data": {
      "text/html": [
       "<div>\n",
       "<style scoped>\n",
       "    .dataframe tbody tr th:only-of-type {\n",
       "        vertical-align: middle;\n",
       "    }\n",
       "\n",
       "    .dataframe tbody tr th {\n",
       "        vertical-align: top;\n",
       "    }\n",
       "\n",
       "    .dataframe thead th {\n",
       "        text-align: right;\n",
       "    }\n",
       "</style>\n",
       "<table border=\"1\" class=\"dataframe\">\n",
       "  <thead>\n",
       "    <tr style=\"text-align: right;\">\n",
       "      <th></th>\n",
       "      <th>user_id</th>\n",
       "      <th>candidates</th>\n",
       "    </tr>\n",
       "  </thead>\n",
       "  <tbody>\n",
       "    <tr>\n",
       "      <th>0</th>\n",
       "      <td>338</td>\n",
       "      <td>[959737, 901827, 13002975, 5586918, 965637, 92...</td>\n",
       "    </tr>\n",
       "    <tr>\n",
       "      <th>1</th>\n",
       "      <td>2120</td>\n",
       "      <td>[2049730, 1029743, 1106523, 5569230, 1070820, ...</td>\n",
       "    </tr>\n",
       "  </tbody>\n",
       "</table>\n",
       "</div>"
      ],
      "text/plain": [
       "   user_id                                         candidates\n",
       "0      338  [959737, 901827, 13002975, 5586918, 965637, 92...\n",
       "1     2120  [2049730, 1029743, 1106523, 5569230, 1070820, ..."
      ]
     },
     "execution_count": 32,
     "metadata": {},
     "output_type": "execute_result"
    }
   ],
   "source": [
    "users_val_2.head(2)"
   ]
  },
  {
   "cell_type": "code",
   "execution_count": 33,
   "id": "a7133d5a",
   "metadata": {},
   "outputs": [
    {
     "data": {
      "text/html": [
       "<div>\n",
       "<style scoped>\n",
       "    .dataframe tbody tr th:only-of-type {\n",
       "        vertical-align: middle;\n",
       "    }\n",
       "\n",
       "    .dataframe tbody tr th {\n",
       "        vertical-align: top;\n",
       "    }\n",
       "\n",
       "    .dataframe thead th {\n",
       "        text-align: right;\n",
       "    }\n",
       "</style>\n",
       "<table border=\"1\" class=\"dataframe\">\n",
       "  <thead>\n",
       "    <tr style=\"text-align: right;\">\n",
       "      <th></th>\n",
       "      <th>user_id</th>\n",
       "      <th>item_id</th>\n",
       "      <th>flag</th>\n",
       "    </tr>\n",
       "  </thead>\n",
       "  <tbody>\n",
       "    <tr>\n",
       "      <th>0</th>\n",
       "      <td>338</td>\n",
       "      <td>959737</td>\n",
       "      <td>1</td>\n",
       "    </tr>\n",
       "    <tr>\n",
       "      <th>0</th>\n",
       "      <td>338</td>\n",
       "      <td>901827</td>\n",
       "      <td>1</td>\n",
       "    </tr>\n",
       "    <tr>\n",
       "      <th>0</th>\n",
       "      <td>338</td>\n",
       "      <td>13002975</td>\n",
       "      <td>1</td>\n",
       "    </tr>\n",
       "    <tr>\n",
       "      <th>0</th>\n",
       "      <td>338</td>\n",
       "      <td>5586918</td>\n",
       "      <td>1</td>\n",
       "    </tr>\n",
       "  </tbody>\n",
       "</table>\n",
       "</div>"
      ],
      "text/plain": [
       "   user_id   item_id  flag\n",
       "0      338    959737     1\n",
       "0      338    901827     1\n",
       "0      338  13002975     1\n",
       "0      338   5586918     1"
      ]
     },
     "execution_count": 33,
     "metadata": {},
     "output_type": "execute_result"
    }
   ],
   "source": [
    "s = users_val_2.apply(lambda x: pd.Series(x['candidates']), axis=1).stack().reset_index(level=1, drop=True)\n",
    "s.name = 'item_id'\n",
    "\n",
    "users_val_2 = users_val_2.drop('candidates', axis=1).join(s)\n",
    "# flag - столбец для рекомендованных моделью товаров (из логики все что рекомендовала модель = считает что пользователь купит такой товар, те prediction = 1)\n",
    "users_val_2['flag'] = 1\n",
    "\n",
    "users_val_2.head(4)"
   ]
  },
  {
   "cell_type": "code",
   "execution_count": 34,
   "id": "f599968c",
   "metadata": {},
   "outputs": [
    {
     "data": {
      "text/plain": [
       "99500"
      ]
     },
     "execution_count": 34,
     "metadata": {},
     "output_type": "execute_result"
    }
   ],
   "source": [
    "users_val_2.shape[0]"
   ]
  },
  {
   "cell_type": "code",
   "execution_count": 35,
   "id": "2a427b3d",
   "metadata": {},
   "outputs": [
    {
     "data": {
      "text/plain": [
       "1990"
      ]
     },
     "execution_count": 35,
     "metadata": {},
     "output_type": "execute_result"
    }
   ],
   "source": [
    "users_val_2['user_id'].nunique()"
   ]
  },
  {
   "cell_type": "code",
   "execution_count": 36,
   "id": "9cc33343",
   "metadata": {},
   "outputs": [],
   "source": [
    "targets_val_2 = data_val_lvl_2[['user_id', 'item_id']].copy()\n",
    "targets_val_2['target'] = 1  # тут только покупки (те фактические данные - для расчета recal и precision)\n",
    "\n",
    "targets_val_2 = users_val_2.merge(targets_val_2, on=['user_id', 'item_id'], how='left')\n",
    "\n",
    "targets_val_2['target'].fillna(0, inplace= True)\n",
    "targets_val_2.drop('flag', axis=1, inplace=True)"
   ]
  },
  {
   "cell_type": "code",
   "execution_count": 37,
   "id": "3d3bfd42",
   "metadata": {},
   "outputs": [
    {
     "data": {
      "text/html": [
       "<div>\n",
       "<style scoped>\n",
       "    .dataframe tbody tr th:only-of-type {\n",
       "        vertical-align: middle;\n",
       "    }\n",
       "\n",
       "    .dataframe tbody tr th {\n",
       "        vertical-align: top;\n",
       "    }\n",
       "\n",
       "    .dataframe thead th {\n",
       "        text-align: right;\n",
       "    }\n",
       "</style>\n",
       "<table border=\"1\" class=\"dataframe\">\n",
       "  <thead>\n",
       "    <tr style=\"text-align: right;\">\n",
       "      <th></th>\n",
       "      <th>user_id</th>\n",
       "      <th>item_id</th>\n",
       "      <th>target</th>\n",
       "    </tr>\n",
       "  </thead>\n",
       "  <tbody>\n",
       "    <tr>\n",
       "      <th>0</th>\n",
       "      <td>338</td>\n",
       "      <td>959737</td>\n",
       "      <td>1.0</td>\n",
       "    </tr>\n",
       "    <tr>\n",
       "      <th>1</th>\n",
       "      <td>338</td>\n",
       "      <td>959737</td>\n",
       "      <td>1.0</td>\n",
       "    </tr>\n",
       "  </tbody>\n",
       "</table>\n",
       "</div>"
      ],
      "text/plain": [
       "   user_id  item_id  target\n",
       "0      338   959737     1.0\n",
       "1      338   959737     1.0"
      ]
     },
     "execution_count": 37,
     "metadata": {},
     "output_type": "execute_result"
    }
   ],
   "source": [
    "targets_val_2.head(2)"
   ]
  },
  {
   "cell_type": "code",
   "execution_count": 38,
   "id": "ac742e08",
   "metadata": {},
   "outputs": [
    {
     "data": {
      "text/plain": [
       "0.33048755698812327"
      ]
     },
     "execution_count": 38,
     "metadata": {},
     "output_type": "execute_result"
    }
   ],
   "source": [
    "targets_val_2['target'].mean()"
   ]
  },
  {
   "cell_type": "code",
   "execution_count": 39,
   "id": "28f36cd2",
   "metadata": {},
   "outputs": [
    {
     "data": {
      "text/html": [
       "<div>\n",
       "<style scoped>\n",
       "    .dataframe tbody tr th:only-of-type {\n",
       "        vertical-align: middle;\n",
       "    }\n",
       "\n",
       "    .dataframe tbody tr th {\n",
       "        vertical-align: top;\n",
       "    }\n",
       "\n",
       "    .dataframe thead th {\n",
       "        text-align: right;\n",
       "    }\n",
       "</style>\n",
       "<table border=\"1\" class=\"dataframe\">\n",
       "  <thead>\n",
       "    <tr style=\"text-align: right;\">\n",
       "      <th></th>\n",
       "      <th>user_id</th>\n",
       "      <th>basket_id</th>\n",
       "      <th>day</th>\n",
       "      <th>item_id</th>\n",
       "      <th>quantity</th>\n",
       "      <th>sales_value</th>\n",
       "      <th>store_id</th>\n",
       "      <th>retail_disc</th>\n",
       "      <th>trans_time</th>\n",
       "      <th>week_no</th>\n",
       "      <th>coupon_disc</th>\n",
       "      <th>coupon_match_disc</th>\n",
       "      <th>price</th>\n",
       "    </tr>\n",
       "  </thead>\n",
       "  <tbody>\n",
       "    <tr>\n",
       "      <th>2277419</th>\n",
       "      <td>338</td>\n",
       "      <td>41260573635</td>\n",
       "      <td>636</td>\n",
       "      <td>7441679</td>\n",
       "      <td>1</td>\n",
       "      <td>3.69</td>\n",
       "      <td>369</td>\n",
       "      <td>0.0</td>\n",
       "      <td>112</td>\n",
       "      <td>92</td>\n",
       "      <td>0.0</td>\n",
       "      <td>0.0</td>\n",
       "      <td>3.69</td>\n",
       "    </tr>\n",
       "    <tr>\n",
       "      <th>2277420</th>\n",
       "      <td>338</td>\n",
       "      <td>41260573635</td>\n",
       "      <td>636</td>\n",
       "      <td>7442317</td>\n",
       "      <td>1</td>\n",
       "      <td>2.69</td>\n",
       "      <td>369</td>\n",
       "      <td>0.0</td>\n",
       "      <td>112</td>\n",
       "      <td>92</td>\n",
       "      <td>0.0</td>\n",
       "      <td>0.0</td>\n",
       "      <td>2.69</td>\n",
       "    </tr>\n",
       "  </tbody>\n",
       "</table>\n",
       "</div>"
      ],
      "text/plain": [
       "         user_id    basket_id  day  item_id  quantity  sales_value  store_id  \\\n",
       "2277419      338  41260573635  636  7441679         1         3.69       369   \n",
       "2277420      338  41260573635  636  7442317         1         2.69       369   \n",
       "\n",
       "         retail_disc  trans_time  week_no  coupon_disc  coupon_match_disc  \\\n",
       "2277419          0.0         112       92          0.0                0.0   \n",
       "2277420          0.0         112       92          0.0                0.0   \n",
       "\n",
       "         price  \n",
       "2277419   3.69  \n",
       "2277420   2.69  "
      ]
     },
     "execution_count": 39,
     "metadata": {},
     "output_type": "execute_result"
    }
   ],
   "source": [
    "data_val_lvl_2.head(2)"
   ]
  },
  {
   "cell_type": "code",
   "execution_count": 40,
   "id": "bdaa1163",
   "metadata": {},
   "outputs": [],
   "source": [
    "user_features_2 = data_val_lvl_2"
   ]
  },
  {
   "cell_type": "code",
   "execution_count": 41,
   "id": "8f3d5de3",
   "metadata": {},
   "outputs": [],
   "source": [
    "# добавим фичу средний чек"
   ]
  },
  {
   "cell_type": "code",
   "execution_count": 42,
   "id": "6efabd4e",
   "metadata": {},
   "outputs": [],
   "source": [
    "user_features_2['check'] = user_features_2['sales_value']"
   ]
  },
  {
   "cell_type": "code",
   "execution_count": 43,
   "id": "a8a6d2d9",
   "metadata": {},
   "outputs": [
    {
     "data": {
      "text/html": [
       "<div>\n",
       "<style scoped>\n",
       "    .dataframe tbody tr th:only-of-type {\n",
       "        vertical-align: middle;\n",
       "    }\n",
       "\n",
       "    .dataframe tbody tr th {\n",
       "        vertical-align: top;\n",
       "    }\n",
       "\n",
       "    .dataframe thead th {\n",
       "        text-align: right;\n",
       "    }\n",
       "</style>\n",
       "<table border=\"1\" class=\"dataframe\">\n",
       "  <thead>\n",
       "    <tr style=\"text-align: right;\">\n",
       "      <th></th>\n",
       "      <th>user_id</th>\n",
       "      <th>check</th>\n",
       "    </tr>\n",
       "  </thead>\n",
       "  <tbody>\n",
       "    <tr>\n",
       "      <th>0</th>\n",
       "      <td>1</td>\n",
       "      <td>3.433846</td>\n",
       "    </tr>\n",
       "    <tr>\n",
       "      <th>1</th>\n",
       "      <td>3</td>\n",
       "      <td>17.070000</td>\n",
       "    </tr>\n",
       "    <tr>\n",
       "      <th>2</th>\n",
       "      <td>6</td>\n",
       "      <td>4.828636</td>\n",
       "    </tr>\n",
       "    <tr>\n",
       "      <th>3</th>\n",
       "      <td>7</td>\n",
       "      <td>4.220185</td>\n",
       "    </tr>\n",
       "    <tr>\n",
       "      <th>4</th>\n",
       "      <td>8</td>\n",
       "      <td>3.981176</td>\n",
       "    </tr>\n",
       "    <tr>\n",
       "      <th>...</th>\n",
       "      <td>...</td>\n",
       "      <td>...</td>\n",
       "    </tr>\n",
       "    <tr>\n",
       "      <th>1985</th>\n",
       "      <td>2495</td>\n",
       "      <td>2.490000</td>\n",
       "    </tr>\n",
       "    <tr>\n",
       "      <th>1986</th>\n",
       "      <td>2497</td>\n",
       "      <td>5.156421</td>\n",
       "    </tr>\n",
       "    <tr>\n",
       "      <th>1987</th>\n",
       "      <td>2498</td>\n",
       "      <td>3.529286</td>\n",
       "    </tr>\n",
       "    <tr>\n",
       "      <th>1988</th>\n",
       "      <td>2499</td>\n",
       "      <td>3.925333</td>\n",
       "    </tr>\n",
       "    <tr>\n",
       "      <th>1989</th>\n",
       "      <td>2500</td>\n",
       "      <td>5.507451</td>\n",
       "    </tr>\n",
       "  </tbody>\n",
       "</table>\n",
       "<p>1990 rows × 2 columns</p>\n",
       "</div>"
      ],
      "text/plain": [
       "      user_id      check\n",
       "0           1   3.433846\n",
       "1           3  17.070000\n",
       "2           6   4.828636\n",
       "3           7   4.220185\n",
       "4           8   3.981176\n",
       "...       ...        ...\n",
       "1985     2495   2.490000\n",
       "1986     2497   5.156421\n",
       "1987     2498   3.529286\n",
       "1988     2499   3.925333\n",
       "1989     2500   5.507451\n",
       "\n",
       "[1990 rows x 2 columns]"
      ]
     },
     "execution_count": 43,
     "metadata": {},
     "output_type": "execute_result"
    }
   ],
   "source": [
    "av_check = user_features_2.groupby('user_id')['check'].mean().reset_index()\n",
    "av_check"
   ]
  },
  {
   "cell_type": "code",
   "execution_count": 44,
   "id": "5043e334",
   "metadata": {},
   "outputs": [],
   "source": [
    "# добавим фичу цены продукта"
   ]
  },
  {
   "cell_type": "code",
   "execution_count": 45,
   "id": "798e3c17",
   "metadata": {},
   "outputs": [
    {
     "data": {
      "text/html": [
       "<div>\n",
       "<style scoped>\n",
       "    .dataframe tbody tr th:only-of-type {\n",
       "        vertical-align: middle;\n",
       "    }\n",
       "\n",
       "    .dataframe tbody tr th {\n",
       "        vertical-align: top;\n",
       "    }\n",
       "\n",
       "    .dataframe thead th {\n",
       "        text-align: right;\n",
       "    }\n",
       "</style>\n",
       "<table border=\"1\" class=\"dataframe\">\n",
       "  <thead>\n",
       "    <tr style=\"text-align: right;\">\n",
       "      <th></th>\n",
       "      <th>item_id</th>\n",
       "      <th>price</th>\n",
       "    </tr>\n",
       "  </thead>\n",
       "  <tbody>\n",
       "    <tr>\n",
       "      <th>0</th>\n",
       "      <td>819210</td>\n",
       "      <td>4.380000</td>\n",
       "    </tr>\n",
       "    <tr>\n",
       "      <th>1</th>\n",
       "      <td>819308</td>\n",
       "      <td>41.909167</td>\n",
       "    </tr>\n",
       "    <tr>\n",
       "      <th>2</th>\n",
       "      <td>819423</td>\n",
       "      <td>35.960000</td>\n",
       "    </tr>\n",
       "    <tr>\n",
       "      <th>3</th>\n",
       "      <td>819487</td>\n",
       "      <td>19.140000</td>\n",
       "    </tr>\n",
       "    <tr>\n",
       "      <th>4</th>\n",
       "      <td>819840</td>\n",
       "      <td>14.830000</td>\n",
       "    </tr>\n",
       "    <tr>\n",
       "      <th>...</th>\n",
       "      <td>...</td>\n",
       "      <td>...</td>\n",
       "    </tr>\n",
       "    <tr>\n",
       "      <th>4996</th>\n",
       "      <td>17903379</td>\n",
       "      <td>5.850000</td>\n",
       "    </tr>\n",
       "    <tr>\n",
       "      <th>4997</th>\n",
       "      <td>17903423</td>\n",
       "      <td>3.990000</td>\n",
       "    </tr>\n",
       "    <tr>\n",
       "      <th>4998</th>\n",
       "      <td>17959083</td>\n",
       "      <td>28.760000</td>\n",
       "    </tr>\n",
       "    <tr>\n",
       "      <th>4999</th>\n",
       "      <td>18000012</td>\n",
       "      <td>14.970000</td>\n",
       "    </tr>\n",
       "    <tr>\n",
       "      <th>5000</th>\n",
       "      <td>18024556</td>\n",
       "      <td>30.510000</td>\n",
       "    </tr>\n",
       "  </tbody>\n",
       "</table>\n",
       "<p>5001 rows × 2 columns</p>\n",
       "</div>"
      ],
      "text/plain": [
       "       item_id      price\n",
       "0       819210   4.380000\n",
       "1       819308  41.909167\n",
       "2       819423  35.960000\n",
       "3       819487  19.140000\n",
       "4       819840  14.830000\n",
       "...        ...        ...\n",
       "4996  17903379   5.850000\n",
       "4997  17903423   3.990000\n",
       "4998  17959083  28.760000\n",
       "4999  18000012  14.970000\n",
       "5000  18024556  30.510000\n",
       "\n",
       "[5001 rows x 2 columns]"
      ]
     },
     "execution_count": 45,
     "metadata": {},
     "output_type": "execute_result"
    }
   ],
   "source": [
    "price = user_features_2.groupby('item_id')['price'].sum().reset_index()\n",
    "price"
   ]
  },
  {
   "cell_type": "code",
   "execution_count": 46,
   "id": "def45c73",
   "metadata": {},
   "outputs": [],
   "source": [
    "# добавим фичу средней цены продукта"
   ]
  },
  {
   "cell_type": "code",
   "execution_count": 47,
   "id": "aea76862",
   "metadata": {},
   "outputs": [
    {
     "data": {
      "text/plain": [
       "item_id\n",
       "819210       2.0\n",
       "819308      15.0\n",
       "819423       4.0\n",
       "819487       6.0\n",
       "819840       5.0\n",
       "            ... \n",
       "17903379     2.0\n",
       "17903423     1.0\n",
       "17959083     4.0\n",
       "18000012     3.0\n",
       "18024556     3.0\n",
       "Name: price, Length: 5001, dtype: float64"
      ]
     },
     "execution_count": 47,
     "metadata": {},
     "output_type": "execute_result"
    }
   ],
   "source": [
    "av_price = user_features_2.groupby('item_id')['price'].sum()/user_features_2.groupby('item_id')['price'].mean()\n",
    "av_price"
   ]
  },
  {
   "cell_type": "code",
   "execution_count": 48,
   "id": "46a497b6",
   "metadata": {},
   "outputs": [],
   "source": [
    "# добавим фичу средней скидки"
   ]
  },
  {
   "cell_type": "code",
   "execution_count": 49,
   "id": "2eb22d5a",
   "metadata": {},
   "outputs": [
    {
     "data": {
      "text/html": [
       "<div>\n",
       "<style scoped>\n",
       "    .dataframe tbody tr th:only-of-type {\n",
       "        vertical-align: middle;\n",
       "    }\n",
       "\n",
       "    .dataframe tbody tr th {\n",
       "        vertical-align: top;\n",
       "    }\n",
       "\n",
       "    .dataframe thead th {\n",
       "        text-align: right;\n",
       "    }\n",
       "</style>\n",
       "<table border=\"1\" class=\"dataframe\">\n",
       "  <thead>\n",
       "    <tr style=\"text-align: right;\">\n",
       "      <th></th>\n",
       "      <th>user_id</th>\n",
       "      <th>retail_disc</th>\n",
       "    </tr>\n",
       "  </thead>\n",
       "  <tbody>\n",
       "    <tr>\n",
       "      <th>0</th>\n",
       "      <td>1</td>\n",
       "      <td>-0.341538</td>\n",
       "    </tr>\n",
       "    <tr>\n",
       "      <th>1</th>\n",
       "      <td>3</td>\n",
       "      <td>-6.610000</td>\n",
       "    </tr>\n",
       "    <tr>\n",
       "      <th>2</th>\n",
       "      <td>6</td>\n",
       "      <td>-0.416364</td>\n",
       "    </tr>\n",
       "    <tr>\n",
       "      <th>3</th>\n",
       "      <td>7</td>\n",
       "      <td>-0.534074</td>\n",
       "    </tr>\n",
       "    <tr>\n",
       "      <th>4</th>\n",
       "      <td>8</td>\n",
       "      <td>-0.635000</td>\n",
       "    </tr>\n",
       "    <tr>\n",
       "      <th>...</th>\n",
       "      <td>...</td>\n",
       "      <td>...</td>\n",
       "    </tr>\n",
       "    <tr>\n",
       "      <th>1985</th>\n",
       "      <td>2495</td>\n",
       "      <td>0.000000</td>\n",
       "    </tr>\n",
       "    <tr>\n",
       "      <th>1986</th>\n",
       "      <td>2497</td>\n",
       "      <td>-0.882632</td>\n",
       "    </tr>\n",
       "    <tr>\n",
       "      <th>1987</th>\n",
       "      <td>2498</td>\n",
       "      <td>-0.204643</td>\n",
       "    </tr>\n",
       "    <tr>\n",
       "      <th>1988</th>\n",
       "      <td>2499</td>\n",
       "      <td>-1.078667</td>\n",
       "    </tr>\n",
       "    <tr>\n",
       "      <th>1989</th>\n",
       "      <td>2500</td>\n",
       "      <td>-0.504706</td>\n",
       "    </tr>\n",
       "  </tbody>\n",
       "</table>\n",
       "<p>1990 rows × 2 columns</p>\n",
       "</div>"
      ],
      "text/plain": [
       "      user_id  retail_disc\n",
       "0           1    -0.341538\n",
       "1           3    -6.610000\n",
       "2           6    -0.416364\n",
       "3           7    -0.534074\n",
       "4           8    -0.635000\n",
       "...       ...          ...\n",
       "1985     2495     0.000000\n",
       "1986     2497    -0.882632\n",
       "1987     2498    -0.204643\n",
       "1988     2499    -1.078667\n",
       "1989     2500    -0.504706\n",
       "\n",
       "[1990 rows x 2 columns]"
      ]
     },
     "execution_count": 49,
     "metadata": {},
     "output_type": "execute_result"
    }
   ],
   "source": [
    "av_disc = user_features_2.groupby('user_id')['retail_disc'].mean().reset_index()\n",
    "av_disc"
   ]
  },
  {
   "cell_type": "code",
   "execution_count": 50,
   "id": "f71444da",
   "metadata": {},
   "outputs": [],
   "source": [
    "# добавим фичу средней стоимости покупки в неделю"
   ]
  },
  {
   "cell_type": "code",
   "execution_count": 51,
   "id": "53c144a2",
   "metadata": {},
   "outputs": [
    {
     "data": {
      "text/plain": [
       "item_id\n",
       "819210      0.046105\n",
       "819308      0.050441\n",
       "819423      0.095132\n",
       "819487      0.034057\n",
       "819840      0.031688\n",
       "              ...   \n",
       "17903379    0.046096\n",
       "17903423    0.168000\n",
       "17959083    0.076693\n",
       "18000012    0.070035\n",
       "18024556    0.107053\n",
       "Length: 5001, dtype: float64"
      ]
     },
     "execution_count": 51,
     "metadata": {},
     "output_type": "execute_result"
    }
   ],
   "source": [
    "av_sales_week = user_features_2.groupby('item_id')['sales_value'].sum()/user_features_2.groupby('item_id')['week_no'].sum()\n",
    "av_sales_week"
   ]
  },
  {
   "cell_type": "code",
   "execution_count": 52,
   "id": "b3e6de3a",
   "metadata": {},
   "outputs": [],
   "source": [
    "#user_features_2 = user_features_2.merge(item_features, on='item_id', how='left')\n",
    "#user_features_2 = user_features_2.merge(user_features, on='user_id', how='left')\n",
    "#user_features_2 = user_features_2.merge(t2, on='user_id', how='left')\n",
    "#user_features_2 = user_features_2.merge(t3, on='item_id', how='left')\n",
    "#user_features_2 = user_features_2.merge(t4, on='item_id', how='left')\n",
    "#user_features_2 = user_features_2.merge(t5, on='user_id', how='left')\n",
    "#user_features_2 = user_features_2.merge(t6, on='item_id', how='left')\n",
    "#user_features_2 = user_features_2.merge(t7, on='item_id', how='left')"
   ]
  },
  {
   "cell_type": "code",
   "execution_count": 53,
   "id": "5b8b50f8",
   "metadata": {},
   "outputs": [],
   "source": [
    "targets_val_2 = data_val_lvl_2[['user_id', 'item_id']].copy()\n",
    "targets_val_2['target'] = 1  # тут только покупки (те фактические данные - для расчета recal и precision)\n",
    "\n",
    "targets_val_2 = users_val_2.merge(targets_val_2, on=['user_id', 'item_id'], how='left')\n",
    "\n",
    "targets_val_2['target'].fillna(0, inplace= True)\n",
    "targets_val_2.drop('flag', axis=1, inplace=True)"
   ]
  },
  {
   "cell_type": "code",
   "execution_count": 54,
   "id": "bcfee29d",
   "metadata": {},
   "outputs": [],
   "source": [
    "targets_val_2 = targets_val_2.merge(item_features, on='item_id', how='left')\n",
    "targets_val_2 = targets_val_2.merge(user_features, on='user_id', how='left')\n",
    "targets_val_2 = targets_val_2.merge(av_check, on='user_id', how='left')\n",
    "targets_val_2 = targets_val_2.merge(price, on='item_id', how='left')\n",
    "targets_val_2 = targets_val_2.merge(av_price, on='item_id', how='left')\n",
    "targets_val_2 = targets_val_2.merge(av_disc, on='user_id', how='left')\n",
    "#targets_val_2 = targets_val_2.merge(av_sales_week, on='item_id', how='left')\n",
    "#targets_val_2 = targets_val_2.merge(t72, on='item_id', how='left')\n"
   ]
  },
  {
   "cell_type": "code",
   "execution_count": 55,
   "id": "03e82ff5",
   "metadata": {},
   "outputs": [
    {
     "data": {
      "text/html": [
       "<div>\n",
       "<style scoped>\n",
       "    .dataframe tbody tr th:only-of-type {\n",
       "        vertical-align: middle;\n",
       "    }\n",
       "\n",
       "    .dataframe tbody tr th {\n",
       "        vertical-align: top;\n",
       "    }\n",
       "\n",
       "    .dataframe thead th {\n",
       "        text-align: right;\n",
       "    }\n",
       "</style>\n",
       "<table border=\"1\" class=\"dataframe\">\n",
       "  <thead>\n",
       "    <tr style=\"text-align: right;\">\n",
       "      <th></th>\n",
       "      <th>user_id</th>\n",
       "      <th>item_id</th>\n",
       "      <th>target</th>\n",
       "      <th>manufacturer</th>\n",
       "      <th>department</th>\n",
       "      <th>brand</th>\n",
       "      <th>commodity_desc</th>\n",
       "      <th>sub_commodity_desc</th>\n",
       "      <th>curr_size_of_product</th>\n",
       "      <th>age_desc</th>\n",
       "      <th>marital_status_code</th>\n",
       "      <th>income_desc</th>\n",
       "      <th>homeowner_desc</th>\n",
       "      <th>hh_comp_desc</th>\n",
       "      <th>household_size_desc</th>\n",
       "      <th>kid_category_desc</th>\n",
       "      <th>check</th>\n",
       "      <th>price_x</th>\n",
       "      <th>price_y</th>\n",
       "      <th>retail_disc</th>\n",
       "    </tr>\n",
       "  </thead>\n",
       "  <tbody>\n",
       "    <tr>\n",
       "      <th>0</th>\n",
       "      <td>338</td>\n",
       "      <td>959737</td>\n",
       "      <td>1.0</td>\n",
       "      <td>2343</td>\n",
       "      <td>GROCERY</td>\n",
       "      <td>National</td>\n",
       "      <td>BEERS/ALES</td>\n",
       "      <td>BEERALEMALT LIQUORS</td>\n",
       "      <td>12 OZ</td>\n",
       "      <td>NaN</td>\n",
       "      <td>NaN</td>\n",
       "      <td>NaN</td>\n",
       "      <td>NaN</td>\n",
       "      <td>NaN</td>\n",
       "      <td>NaN</td>\n",
       "      <td>NaN</td>\n",
       "      <td>7.3762</td>\n",
       "      <td>41.97</td>\n",
       "      <td>3.0</td>\n",
       "      <td>-1.1222</td>\n",
       "    </tr>\n",
       "    <tr>\n",
       "      <th>1</th>\n",
       "      <td>338</td>\n",
       "      <td>959737</td>\n",
       "      <td>1.0</td>\n",
       "      <td>2343</td>\n",
       "      <td>GROCERY</td>\n",
       "      <td>National</td>\n",
       "      <td>BEERS/ALES</td>\n",
       "      <td>BEERALEMALT LIQUORS</td>\n",
       "      <td>12 OZ</td>\n",
       "      <td>NaN</td>\n",
       "      <td>NaN</td>\n",
       "      <td>NaN</td>\n",
       "      <td>NaN</td>\n",
       "      <td>NaN</td>\n",
       "      <td>NaN</td>\n",
       "      <td>NaN</td>\n",
       "      <td>7.3762</td>\n",
       "      <td>41.97</td>\n",
       "      <td>3.0</td>\n",
       "      <td>-1.1222</td>\n",
       "    </tr>\n",
       "  </tbody>\n",
       "</table>\n",
       "</div>"
      ],
      "text/plain": [
       "   user_id  item_id  target  manufacturer department     brand commodity_desc  \\\n",
       "0      338   959737     1.0          2343    GROCERY  National     BEERS/ALES   \n",
       "1      338   959737     1.0          2343    GROCERY  National     BEERS/ALES   \n",
       "\n",
       "    sub_commodity_desc curr_size_of_product age_desc marital_status_code  \\\n",
       "0  BEERALEMALT LIQUORS                12 OZ      NaN                 NaN   \n",
       "1  BEERALEMALT LIQUORS                12 OZ      NaN                 NaN   \n",
       "\n",
       "  income_desc homeowner_desc hh_comp_desc household_size_desc  \\\n",
       "0         NaN            NaN          NaN                 NaN   \n",
       "1         NaN            NaN          NaN                 NaN   \n",
       "\n",
       "  kid_category_desc   check  price_x  price_y  retail_disc  \n",
       "0               NaN  7.3762    41.97      3.0      -1.1222  \n",
       "1               NaN  7.3762    41.97      3.0      -1.1222  "
      ]
     },
     "execution_count": 55,
     "metadata": {},
     "output_type": "execute_result"
    }
   ],
   "source": [
    "targets_val_2.head(2)"
   ]
  },
  {
   "cell_type": "code",
   "execution_count": 56,
   "id": "8060614c",
   "metadata": {},
   "outputs": [
    {
     "data": {
      "text/plain": [
       "['target',\n",
       " 'manufacturer',\n",
       " 'department',\n",
       " 'brand',\n",
       " 'commodity_desc',\n",
       " 'sub_commodity_desc',\n",
       " 'curr_size_of_product',\n",
       " 'age_desc',\n",
       " 'marital_status_code',\n",
       " 'income_desc',\n",
       " 'homeowner_desc',\n",
       " 'hh_comp_desc',\n",
       " 'household_size_desc',\n",
       " 'kid_category_desc',\n",
       " 'check',\n",
       " 'price_x',\n",
       " 'price_y',\n",
       " 'retail_disc']"
      ]
     },
     "execution_count": 56,
     "metadata": {},
     "output_type": "execute_result"
    }
   ],
   "source": [
    "cat_feats = targets_val_2.columns[2:].tolist()\n",
    "#X_train[cat_feats] = X_train[cat_feats].astype('category')\n",
    "\n",
    "cat_feats"
   ]
  },
  {
   "cell_type": "code",
   "execution_count": 57,
   "id": "d1f7531e",
   "metadata": {},
   "outputs": [],
   "source": [
    "targets_val_2 = targets_val_2.reindex(columns=['user_id',\n",
    "                                               'item_id',\n",
    "                                               'target',\n",
    "                                               'check',\n",
    "                                               'price_x',\n",
    "                                               'price_y',\n",
    "                                               'retail_disc', \n",
    "                                               'manufacturer',\n",
    "                                               'department',\n",
    "                                               'brand',\n",
    "                                               'commodity_desc',\n",
    "                                               'sub_commodity_desc',\n",
    "                                               'curr_size_of_product',\n",
    "                                               'age_desc',\n",
    "                                               'marital_status_code',\n",
    "                                               'income_desc',\n",
    "                                               'homeowner_desc',\n",
    "                                               'hh_comp_desc',\n",
    "                                               'household_size_desc',\n",
    "                                               'kid_category_desc'])"
   ]
  },
  {
   "cell_type": "code",
   "execution_count": 58,
   "id": "0465c381",
   "metadata": {},
   "outputs": [
    {
     "data": {
      "text/html": [
       "<div>\n",
       "<style scoped>\n",
       "    .dataframe tbody tr th:only-of-type {\n",
       "        vertical-align: middle;\n",
       "    }\n",
       "\n",
       "    .dataframe tbody tr th {\n",
       "        vertical-align: top;\n",
       "    }\n",
       "\n",
       "    .dataframe thead th {\n",
       "        text-align: right;\n",
       "    }\n",
       "</style>\n",
       "<table border=\"1\" class=\"dataframe\">\n",
       "  <thead>\n",
       "    <tr style=\"text-align: right;\">\n",
       "      <th></th>\n",
       "      <th>user_id</th>\n",
       "      <th>item_id</th>\n",
       "      <th>target</th>\n",
       "      <th>check</th>\n",
       "      <th>price_x</th>\n",
       "      <th>price_y</th>\n",
       "      <th>retail_disc</th>\n",
       "      <th>manufacturer</th>\n",
       "      <th>department</th>\n",
       "      <th>brand</th>\n",
       "      <th>commodity_desc</th>\n",
       "      <th>sub_commodity_desc</th>\n",
       "      <th>curr_size_of_product</th>\n",
       "      <th>age_desc</th>\n",
       "      <th>marital_status_code</th>\n",
       "      <th>income_desc</th>\n",
       "      <th>homeowner_desc</th>\n",
       "      <th>hh_comp_desc</th>\n",
       "      <th>household_size_desc</th>\n",
       "      <th>kid_category_desc</th>\n",
       "    </tr>\n",
       "  </thead>\n",
       "  <tbody>\n",
       "    <tr>\n",
       "      <th>0</th>\n",
       "      <td>338</td>\n",
       "      <td>959737</td>\n",
       "      <td>1.0</td>\n",
       "      <td>7.376200</td>\n",
       "      <td>41.970000</td>\n",
       "      <td>3.0</td>\n",
       "      <td>-1.1222</td>\n",
       "      <td>2343</td>\n",
       "      <td>GROCERY</td>\n",
       "      <td>National</td>\n",
       "      <td>BEERS/ALES</td>\n",
       "      <td>BEERALEMALT LIQUORS</td>\n",
       "      <td>12 OZ</td>\n",
       "      <td>NaN</td>\n",
       "      <td>NaN</td>\n",
       "      <td>NaN</td>\n",
       "      <td>NaN</td>\n",
       "      <td>NaN</td>\n",
       "      <td>NaN</td>\n",
       "      <td>NaN</td>\n",
       "    </tr>\n",
       "    <tr>\n",
       "      <th>1</th>\n",
       "      <td>338</td>\n",
       "      <td>959737</td>\n",
       "      <td>1.0</td>\n",
       "      <td>7.376200</td>\n",
       "      <td>41.970000</td>\n",
       "      <td>3.0</td>\n",
       "      <td>-1.1222</td>\n",
       "      <td>2343</td>\n",
       "      <td>GROCERY</td>\n",
       "      <td>National</td>\n",
       "      <td>BEERS/ALES</td>\n",
       "      <td>BEERALEMALT LIQUORS</td>\n",
       "      <td>12 OZ</td>\n",
       "      <td>NaN</td>\n",
       "      <td>NaN</td>\n",
       "      <td>NaN</td>\n",
       "      <td>NaN</td>\n",
       "      <td>NaN</td>\n",
       "      <td>NaN</td>\n",
       "      <td>NaN</td>\n",
       "    </tr>\n",
       "    <tr>\n",
       "      <th>2</th>\n",
       "      <td>338</td>\n",
       "      <td>901827</td>\n",
       "      <td>1.0</td>\n",
       "      <td>7.376200</td>\n",
       "      <td>10.725000</td>\n",
       "      <td>3.0</td>\n",
       "      <td>-1.1222</td>\n",
       "      <td>69</td>\n",
       "      <td>DRUG GM</td>\n",
       "      <td>Private</td>\n",
       "      <td>ANALGESICS</td>\n",
       "      <td>ADULT ANALGESICS</td>\n",
       "      <td></td>\n",
       "      <td>NaN</td>\n",
       "      <td>NaN</td>\n",
       "      <td>NaN</td>\n",
       "      <td>NaN</td>\n",
       "      <td>NaN</td>\n",
       "      <td>NaN</td>\n",
       "      <td>NaN</td>\n",
       "    </tr>\n",
       "    <tr>\n",
       "      <th>3</th>\n",
       "      <td>338</td>\n",
       "      <td>13002975</td>\n",
       "      <td>1.0</td>\n",
       "      <td>7.376200</td>\n",
       "      <td>26.766667</td>\n",
       "      <td>7.0</td>\n",
       "      <td>-1.1222</td>\n",
       "      <td>2843</td>\n",
       "      <td>MEAT</td>\n",
       "      <td>National</td>\n",
       "      <td>BEEF</td>\n",
       "      <td>RIBS</td>\n",
       "      <td></td>\n",
       "      <td>NaN</td>\n",
       "      <td>NaN</td>\n",
       "      <td>NaN</td>\n",
       "      <td>NaN</td>\n",
       "      <td>NaN</td>\n",
       "      <td>NaN</td>\n",
       "      <td>NaN</td>\n",
       "    </tr>\n",
       "    <tr>\n",
       "      <th>4</th>\n",
       "      <td>338</td>\n",
       "      <td>13002975</td>\n",
       "      <td>1.0</td>\n",
       "      <td>7.376200</td>\n",
       "      <td>26.766667</td>\n",
       "      <td>7.0</td>\n",
       "      <td>-1.1222</td>\n",
       "      <td>2843</td>\n",
       "      <td>MEAT</td>\n",
       "      <td>National</td>\n",
       "      <td>BEEF</td>\n",
       "      <td>RIBS</td>\n",
       "      <td></td>\n",
       "      <td>NaN</td>\n",
       "      <td>NaN</td>\n",
       "      <td>NaN</td>\n",
       "      <td>NaN</td>\n",
       "      <td>NaN</td>\n",
       "      <td>NaN</td>\n",
       "      <td>NaN</td>\n",
       "    </tr>\n",
       "    <tr>\n",
       "      <th>...</th>\n",
       "      <td>...</td>\n",
       "      <td>...</td>\n",
       "      <td>...</td>\n",
       "      <td>...</td>\n",
       "      <td>...</td>\n",
       "      <td>...</td>\n",
       "      <td>...</td>\n",
       "      <td>...</td>\n",
       "      <td>...</td>\n",
       "      <td>...</td>\n",
       "      <td>...</td>\n",
       "      <td>...</td>\n",
       "      <td>...</td>\n",
       "      <td>...</td>\n",
       "      <td>...</td>\n",
       "      <td>...</td>\n",
       "      <td>...</td>\n",
       "      <td>...</td>\n",
       "      <td>...</td>\n",
       "      <td>...</td>\n",
       "    </tr>\n",
       "    <tr>\n",
       "      <th>103306</th>\n",
       "      <td>832</td>\n",
       "      <td>908318</td>\n",
       "      <td>0.0</td>\n",
       "      <td>4.923333</td>\n",
       "      <td>167.440000</td>\n",
       "      <td>56.0</td>\n",
       "      <td>0.0000</td>\n",
       "      <td>5124</td>\n",
       "      <td>PRODUCE</td>\n",
       "      <td>National</td>\n",
       "      <td>POTATOES</td>\n",
       "      <td>POTATOES OTHER</td>\n",
       "      <td>4 CT</td>\n",
       "      <td>NaN</td>\n",
       "      <td>NaN</td>\n",
       "      <td>NaN</td>\n",
       "      <td>NaN</td>\n",
       "      <td>NaN</td>\n",
       "      <td>NaN</td>\n",
       "      <td>NaN</td>\n",
       "    </tr>\n",
       "    <tr>\n",
       "      <th>103307</th>\n",
       "      <td>832</td>\n",
       "      <td>865456</td>\n",
       "      <td>0.0</td>\n",
       "      <td>4.923333</td>\n",
       "      <td>223.440000</td>\n",
       "      <td>56.0</td>\n",
       "      <td>0.0000</td>\n",
       "      <td>317</td>\n",
       "      <td>GROCERY</td>\n",
       "      <td>National</td>\n",
       "      <td>CHEESE</td>\n",
       "      <td>LOAF CHEESE</td>\n",
       "      <td>L     2 LB</td>\n",
       "      <td>NaN</td>\n",
       "      <td>NaN</td>\n",
       "      <td>NaN</td>\n",
       "      <td>NaN</td>\n",
       "      <td>NaN</td>\n",
       "      <td>NaN</td>\n",
       "      <td>NaN</td>\n",
       "    </tr>\n",
       "    <tr>\n",
       "      <th>103308</th>\n",
       "      <td>832</td>\n",
       "      <td>5585510</td>\n",
       "      <td>0.0</td>\n",
       "      <td>4.923333</td>\n",
       "      <td>221.040000</td>\n",
       "      <td>56.0</td>\n",
       "      <td>0.0000</td>\n",
       "      <td>69</td>\n",
       "      <td>PRODUCE</td>\n",
       "      <td>Private</td>\n",
       "      <td>TOMATOES</td>\n",
       "      <td>TOMATOES VINE RIPE PKG</td>\n",
       "      <td>4 CT</td>\n",
       "      <td>NaN</td>\n",
       "      <td>NaN</td>\n",
       "      <td>NaN</td>\n",
       "      <td>NaN</td>\n",
       "      <td>NaN</td>\n",
       "      <td>NaN</td>\n",
       "      <td>NaN</td>\n",
       "    </tr>\n",
       "    <tr>\n",
       "      <th>103309</th>\n",
       "      <td>832</td>\n",
       "      <td>1026118</td>\n",
       "      <td>0.0</td>\n",
       "      <td>4.923333</td>\n",
       "      <td>208.610000</td>\n",
       "      <td>55.0</td>\n",
       "      <td>0.0000</td>\n",
       "      <td>2</td>\n",
       "      <td>PRODUCE</td>\n",
       "      <td>National</td>\n",
       "      <td>TOMATOES</td>\n",
       "      <td>ROMA TOMATOES (BULK/PKG)</td>\n",
       "      <td>25 LB</td>\n",
       "      <td>NaN</td>\n",
       "      <td>NaN</td>\n",
       "      <td>NaN</td>\n",
       "      <td>NaN</td>\n",
       "      <td>NaN</td>\n",
       "      <td>NaN</td>\n",
       "      <td>NaN</td>\n",
       "    </tr>\n",
       "    <tr>\n",
       "      <th>103310</th>\n",
       "      <td>832</td>\n",
       "      <td>1068719</td>\n",
       "      <td>0.0</td>\n",
       "      <td>4.923333</td>\n",
       "      <td>129.690000</td>\n",
       "      <td>55.0</td>\n",
       "      <td>0.0000</td>\n",
       "      <td>69</td>\n",
       "      <td>GROCERY</td>\n",
       "      <td>Private</td>\n",
       "      <td>SUGARS/SWEETNERS</td>\n",
       "      <td>SUGAR</td>\n",
       "      <td>(600) 4LB</td>\n",
       "      <td>NaN</td>\n",
       "      <td>NaN</td>\n",
       "      <td>NaN</td>\n",
       "      <td>NaN</td>\n",
       "      <td>NaN</td>\n",
       "      <td>NaN</td>\n",
       "      <td>NaN</td>\n",
       "    </tr>\n",
       "  </tbody>\n",
       "</table>\n",
       "<p>103311 rows × 20 columns</p>\n",
       "</div>"
      ],
      "text/plain": [
       "        user_id   item_id  target     check     price_x  price_y  retail_disc  \\\n",
       "0           338    959737     1.0  7.376200   41.970000      3.0      -1.1222   \n",
       "1           338    959737     1.0  7.376200   41.970000      3.0      -1.1222   \n",
       "2           338    901827     1.0  7.376200   10.725000      3.0      -1.1222   \n",
       "3           338  13002975     1.0  7.376200   26.766667      7.0      -1.1222   \n",
       "4           338  13002975     1.0  7.376200   26.766667      7.0      -1.1222   \n",
       "...         ...       ...     ...       ...         ...      ...          ...   \n",
       "103306      832    908318     0.0  4.923333  167.440000     56.0       0.0000   \n",
       "103307      832    865456     0.0  4.923333  223.440000     56.0       0.0000   \n",
       "103308      832   5585510     0.0  4.923333  221.040000     56.0       0.0000   \n",
       "103309      832   1026118     0.0  4.923333  208.610000     55.0       0.0000   \n",
       "103310      832   1068719     0.0  4.923333  129.690000     55.0       0.0000   \n",
       "\n",
       "        manufacturer department     brand    commodity_desc  \\\n",
       "0               2343    GROCERY  National        BEERS/ALES   \n",
       "1               2343    GROCERY  National        BEERS/ALES   \n",
       "2                 69    DRUG GM   Private        ANALGESICS   \n",
       "3               2843       MEAT  National              BEEF   \n",
       "4               2843       MEAT  National              BEEF   \n",
       "...              ...        ...       ...               ...   \n",
       "103306          5124    PRODUCE  National          POTATOES   \n",
       "103307           317    GROCERY  National            CHEESE   \n",
       "103308            69    PRODUCE   Private          TOMATOES   \n",
       "103309             2    PRODUCE  National          TOMATOES   \n",
       "103310            69    GROCERY   Private  SUGARS/SWEETNERS   \n",
       "\n",
       "              sub_commodity_desc curr_size_of_product age_desc  \\\n",
       "0            BEERALEMALT LIQUORS                12 OZ      NaN   \n",
       "1            BEERALEMALT LIQUORS                12 OZ      NaN   \n",
       "2               ADULT ANALGESICS                           NaN   \n",
       "3                           RIBS                           NaN   \n",
       "4                           RIBS                           NaN   \n",
       "...                          ...                  ...      ...   \n",
       "103306            POTATOES OTHER                 4 CT      NaN   \n",
       "103307               LOAF CHEESE           L     2 LB      NaN   \n",
       "103308    TOMATOES VINE RIPE PKG                 4 CT      NaN   \n",
       "103309  ROMA TOMATOES (BULK/PKG)                25 LB      NaN   \n",
       "103310                     SUGAR            (600) 4LB      NaN   \n",
       "\n",
       "       marital_status_code income_desc homeowner_desc hh_comp_desc  \\\n",
       "0                      NaN         NaN            NaN          NaN   \n",
       "1                      NaN         NaN            NaN          NaN   \n",
       "2                      NaN         NaN            NaN          NaN   \n",
       "3                      NaN         NaN            NaN          NaN   \n",
       "4                      NaN         NaN            NaN          NaN   \n",
       "...                    ...         ...            ...          ...   \n",
       "103306                 NaN         NaN            NaN          NaN   \n",
       "103307                 NaN         NaN            NaN          NaN   \n",
       "103308                 NaN         NaN            NaN          NaN   \n",
       "103309                 NaN         NaN            NaN          NaN   \n",
       "103310                 NaN         NaN            NaN          NaN   \n",
       "\n",
       "       household_size_desc kid_category_desc  \n",
       "0                      NaN               NaN  \n",
       "1                      NaN               NaN  \n",
       "2                      NaN               NaN  \n",
       "3                      NaN               NaN  \n",
       "4                      NaN               NaN  \n",
       "...                    ...               ...  \n",
       "103306                 NaN               NaN  \n",
       "103307                 NaN               NaN  \n",
       "103308                 NaN               NaN  \n",
       "103309                 NaN               NaN  \n",
       "103310                 NaN               NaN  \n",
       "\n",
       "[103311 rows x 20 columns]"
      ]
     },
     "execution_count": 58,
     "metadata": {},
     "output_type": "execute_result"
    }
   ],
   "source": [
    "targets_val_2"
   ]
  },
  {
   "cell_type": "code",
   "execution_count": 59,
   "id": "fb114f27",
   "metadata": {},
   "outputs": [
    {
     "data": {
      "text/plain": [
       "0.33048755698812327"
      ]
     },
     "execution_count": 59,
     "metadata": {},
     "output_type": "execute_result"
    }
   ],
   "source": [
    "targets_val_2['target'].mean()"
   ]
  },
  {
   "cell_type": "code",
   "execution_count": 60,
   "id": "5f65e89f",
   "metadata": {},
   "outputs": [],
   "source": [
    "X_val = targets_val_2.drop('target', axis=1)\n",
    "y_val = targets_val_2[['target']]"
   ]
  },
  {
   "cell_type": "code",
   "execution_count": 61,
   "id": "b692d79e",
   "metadata": {},
   "outputs": [
    {
     "data": {
      "text/plain": [
       "['manufacturer',\n",
       " 'department',\n",
       " 'brand',\n",
       " 'commodity_desc',\n",
       " 'sub_commodity_desc',\n",
       " 'curr_size_of_product',\n",
       " 'age_desc',\n",
       " 'marital_status_code',\n",
       " 'income_desc',\n",
       " 'homeowner_desc',\n",
       " 'hh_comp_desc',\n",
       " 'household_size_desc',\n",
       " 'kid_category_desc']"
      ]
     },
     "execution_count": 61,
     "metadata": {},
     "output_type": "execute_result"
    }
   ],
   "source": [
    "cat_feats = X_val.columns[6:].tolist()\n",
    "X_val[cat_feats] = X_val[cat_feats].astype('category')\n",
    "\n",
    "cat_feats"
   ]
  },
  {
   "cell_type": "code",
   "execution_count": 62,
   "id": "9d551947",
   "metadata": {},
   "outputs": [],
   "source": [
    "import pandas as pd\n",
    "import numpy as np\n",
    "import matplotlib.pyplot as plt\n",
    "%matplotlib inline\n",
    "\n",
    "# Для работы с матрицами\n",
    "from scipy.sparse import csr_matrix\n",
    "\n",
    "# Матричная факторизация\n",
    "#from implicit import als\n",
    "\n",
    "# Модель второго уровня\n",
    "from lightgbm import LGBMClassifier\n",
    "\n",
    "import os, sys\n",
    "module_path = os.path.abspath(os.path.join(os.pardir))\n",
    "if module_path not in sys.path:\n",
    "    sys.path.append(module_path)\n",
    "\n",
    "# Написанные нами функции\n",
    "#from src.metrics import precision_at_k, recall_at_k\n",
    "#from src.utils import prefilter_items\n",
    "#from src.recommenders import MainRecommender"
   ]
  },
  {
   "cell_type": "code",
   "execution_count": 68,
   "id": "411df4f7",
   "metadata": {},
   "outputs": [
    {
     "name": "stderr",
     "output_type": "stream",
     "text": [
      "C:\\Users\\user\\anaconda3\\lib\\site-packages\\sklearn\\preprocessing\\_label.py:98: DataConversionWarning: A column-vector y was passed when a 1d array was expected. Please change the shape of y to (n_samples, ), for example using ravel().\n",
      "  y = column_or_1d(y, warn=True)\n",
      "C:\\Users\\user\\anaconda3\\lib\\site-packages\\sklearn\\preprocessing\\_label.py:133: DataConversionWarning: A column-vector y was passed when a 1d array was expected. Please change the shape of y to (n_samples, ), for example using ravel().\n",
      "  y = column_or_1d(y, warn=True)\n"
     ]
    }
   ],
   "source": [
    "lgb = LGBMClassifier(n_jobs=-1,\n",
    "    max_depth=6,\n",
    "    subsample=1,\n",
    "    n_estimators=100,\n",
    "    learning_rate=0.1,\n",
    "    colsample_bytree=1,\n",
    "    objective='binary',\n",
    "    boosting_type='gbdt')\n",
    "\n",
    "lgb.fit(X_val, y_val)\n",
    "\n",
    "#train_preds = lgb.predict(X_val)\n",
    "\n",
    "val_preds = lgb.predict(X_val)"
   ]
  },
  {
   "cell_type": "code",
   "execution_count": 69,
   "id": "fc5c6c74",
   "metadata": {},
   "outputs": [
    {
     "data": {
      "text/plain": [
       "103311"
      ]
     },
     "execution_count": 69,
     "metadata": {},
     "output_type": "execute_result"
    }
   ],
   "source": [
    "len(X_val)"
   ]
  },
  {
   "cell_type": "code",
   "execution_count": 70,
   "id": "c44cf32b",
   "metadata": {},
   "outputs": [
    {
     "data": {
      "text/plain": [
       "103311"
      ]
     },
     "execution_count": 70,
     "metadata": {},
     "output_type": "execute_result"
    }
   ],
   "source": [
    "len(val_preds)"
   ]
  },
  {
   "cell_type": "code",
   "execution_count": 71,
   "id": "6870f2ff",
   "metadata": {},
   "outputs": [
    {
     "data": {
      "text/plain": [
       "0.27665011470220985"
      ]
     },
     "execution_count": 71,
     "metadata": {},
     "output_type": "execute_result"
    }
   ],
   "source": [
    "val_preds.mean()"
   ]
  },
  {
   "cell_type": "code",
   "execution_count": 72,
   "id": "8a6668a9",
   "metadata": {},
   "outputs": [],
   "source": [
    "X_val['preds'] = val_preds"
   ]
  },
  {
   "cell_type": "code",
   "execution_count": 73,
   "id": "8e06e091",
   "metadata": {},
   "outputs": [
    {
     "data": {
      "text/html": [
       "<div>\n",
       "<style scoped>\n",
       "    .dataframe tbody tr th:only-of-type {\n",
       "        vertical-align: middle;\n",
       "    }\n",
       "\n",
       "    .dataframe tbody tr th {\n",
       "        vertical-align: top;\n",
       "    }\n",
       "\n",
       "    .dataframe thead th {\n",
       "        text-align: right;\n",
       "    }\n",
       "</style>\n",
       "<table border=\"1\" class=\"dataframe\">\n",
       "  <thead>\n",
       "    <tr style=\"text-align: right;\">\n",
       "      <th></th>\n",
       "      <th>user_id</th>\n",
       "      <th>item_id</th>\n",
       "      <th>check</th>\n",
       "      <th>price_x</th>\n",
       "      <th>price_y</th>\n",
       "      <th>retail_disc</th>\n",
       "      <th>manufacturer</th>\n",
       "      <th>department</th>\n",
       "      <th>brand</th>\n",
       "      <th>commodity_desc</th>\n",
       "      <th>sub_commodity_desc</th>\n",
       "      <th>curr_size_of_product</th>\n",
       "      <th>age_desc</th>\n",
       "      <th>marital_status_code</th>\n",
       "      <th>income_desc</th>\n",
       "      <th>homeowner_desc</th>\n",
       "      <th>hh_comp_desc</th>\n",
       "      <th>household_size_desc</th>\n",
       "      <th>kid_category_desc</th>\n",
       "      <th>preds</th>\n",
       "    </tr>\n",
       "  </thead>\n",
       "  <tbody>\n",
       "    <tr>\n",
       "      <th>0</th>\n",
       "      <td>338</td>\n",
       "      <td>959737</td>\n",
       "      <td>7.3762</td>\n",
       "      <td>41.970000</td>\n",
       "      <td>3.0</td>\n",
       "      <td>-1.1222</td>\n",
       "      <td>2343</td>\n",
       "      <td>GROCERY</td>\n",
       "      <td>National</td>\n",
       "      <td>BEERS/ALES</td>\n",
       "      <td>BEERALEMALT LIQUORS</td>\n",
       "      <td>12 OZ</td>\n",
       "      <td>NaN</td>\n",
       "      <td>NaN</td>\n",
       "      <td>NaN</td>\n",
       "      <td>NaN</td>\n",
       "      <td>NaN</td>\n",
       "      <td>NaN</td>\n",
       "      <td>NaN</td>\n",
       "      <td>1.0</td>\n",
       "    </tr>\n",
       "    <tr>\n",
       "      <th>1</th>\n",
       "      <td>338</td>\n",
       "      <td>959737</td>\n",
       "      <td>7.3762</td>\n",
       "      <td>41.970000</td>\n",
       "      <td>3.0</td>\n",
       "      <td>-1.1222</td>\n",
       "      <td>2343</td>\n",
       "      <td>GROCERY</td>\n",
       "      <td>National</td>\n",
       "      <td>BEERS/ALES</td>\n",
       "      <td>BEERALEMALT LIQUORS</td>\n",
       "      <td>12 OZ</td>\n",
       "      <td>NaN</td>\n",
       "      <td>NaN</td>\n",
       "      <td>NaN</td>\n",
       "      <td>NaN</td>\n",
       "      <td>NaN</td>\n",
       "      <td>NaN</td>\n",
       "      <td>NaN</td>\n",
       "      <td>1.0</td>\n",
       "    </tr>\n",
       "    <tr>\n",
       "      <th>2</th>\n",
       "      <td>338</td>\n",
       "      <td>901827</td>\n",
       "      <td>7.3762</td>\n",
       "      <td>10.725000</td>\n",
       "      <td>3.0</td>\n",
       "      <td>-1.1222</td>\n",
       "      <td>69</td>\n",
       "      <td>DRUG GM</td>\n",
       "      <td>Private</td>\n",
       "      <td>ANALGESICS</td>\n",
       "      <td>ADULT ANALGESICS</td>\n",
       "      <td></td>\n",
       "      <td>NaN</td>\n",
       "      <td>NaN</td>\n",
       "      <td>NaN</td>\n",
       "      <td>NaN</td>\n",
       "      <td>NaN</td>\n",
       "      <td>NaN</td>\n",
       "      <td>NaN</td>\n",
       "      <td>1.0</td>\n",
       "    </tr>\n",
       "    <tr>\n",
       "      <th>3</th>\n",
       "      <td>338</td>\n",
       "      <td>13002975</td>\n",
       "      <td>7.3762</td>\n",
       "      <td>26.766667</td>\n",
       "      <td>7.0</td>\n",
       "      <td>-1.1222</td>\n",
       "      <td>2843</td>\n",
       "      <td>MEAT</td>\n",
       "      <td>National</td>\n",
       "      <td>BEEF</td>\n",
       "      <td>RIBS</td>\n",
       "      <td></td>\n",
       "      <td>NaN</td>\n",
       "      <td>NaN</td>\n",
       "      <td>NaN</td>\n",
       "      <td>NaN</td>\n",
       "      <td>NaN</td>\n",
       "      <td>NaN</td>\n",
       "      <td>NaN</td>\n",
       "      <td>1.0</td>\n",
       "    </tr>\n",
       "    <tr>\n",
       "      <th>4</th>\n",
       "      <td>338</td>\n",
       "      <td>13002975</td>\n",
       "      <td>7.3762</td>\n",
       "      <td>26.766667</td>\n",
       "      <td>7.0</td>\n",
       "      <td>-1.1222</td>\n",
       "      <td>2843</td>\n",
       "      <td>MEAT</td>\n",
       "      <td>National</td>\n",
       "      <td>BEEF</td>\n",
       "      <td>RIBS</td>\n",
       "      <td></td>\n",
       "      <td>NaN</td>\n",
       "      <td>NaN</td>\n",
       "      <td>NaN</td>\n",
       "      <td>NaN</td>\n",
       "      <td>NaN</td>\n",
       "      <td>NaN</td>\n",
       "      <td>NaN</td>\n",
       "      <td>1.0</td>\n",
       "    </tr>\n",
       "  </tbody>\n",
       "</table>\n",
       "</div>"
      ],
      "text/plain": [
       "   user_id   item_id   check    price_x  price_y  retail_disc manufacturer  \\\n",
       "0      338    959737  7.3762  41.970000      3.0      -1.1222         2343   \n",
       "1      338    959737  7.3762  41.970000      3.0      -1.1222         2343   \n",
       "2      338    901827  7.3762  10.725000      3.0      -1.1222           69   \n",
       "3      338  13002975  7.3762  26.766667      7.0      -1.1222         2843   \n",
       "4      338  13002975  7.3762  26.766667      7.0      -1.1222         2843   \n",
       "\n",
       "  department     brand commodity_desc   sub_commodity_desc  \\\n",
       "0    GROCERY  National     BEERS/ALES  BEERALEMALT LIQUORS   \n",
       "1    GROCERY  National     BEERS/ALES  BEERALEMALT LIQUORS   \n",
       "2    DRUG GM   Private     ANALGESICS     ADULT ANALGESICS   \n",
       "3       MEAT  National           BEEF                 RIBS   \n",
       "4       MEAT  National           BEEF                 RIBS   \n",
       "\n",
       "  curr_size_of_product age_desc marital_status_code income_desc  \\\n",
       "0                12 OZ      NaN                 NaN         NaN   \n",
       "1                12 OZ      NaN                 NaN         NaN   \n",
       "2                           NaN                 NaN         NaN   \n",
       "3                           NaN                 NaN         NaN   \n",
       "4                           NaN                 NaN         NaN   \n",
       "\n",
       "  homeowner_desc hh_comp_desc household_size_desc kid_category_desc  preds  \n",
       "0            NaN          NaN                 NaN               NaN    1.0  \n",
       "1            NaN          NaN                 NaN               NaN    1.0  \n",
       "2            NaN          NaN                 NaN               NaN    1.0  \n",
       "3            NaN          NaN                 NaN               NaN    1.0  \n",
       "4            NaN          NaN                 NaN               NaN    1.0  "
      ]
     },
     "execution_count": 73,
     "metadata": {},
     "output_type": "execute_result"
    }
   ],
   "source": [
    "X_val.head()"
   ]
  },
  {
   "cell_type": "code",
   "execution_count": 74,
   "id": "e004abe7",
   "metadata": {},
   "outputs": [
    {
     "data": {
      "text/plain": [
       "0.0    74730\n",
       "1.0    28581\n",
       "Name: preds, dtype: int64"
      ]
     },
     "execution_count": 74,
     "metadata": {},
     "output_type": "execute_result"
    }
   ],
   "source": [
    "X_val.preds.value_counts()"
   ]
  },
  {
   "cell_type": "code",
   "execution_count": 75,
   "id": "9a247497",
   "metadata": {},
   "outputs": [],
   "source": [
    "X_val['y_true'] = y_val"
   ]
  },
  {
   "cell_type": "code",
   "execution_count": 76,
   "id": "7e3003c1",
   "metadata": {},
   "outputs": [
    {
     "data": {
      "text/plain": [
       "0.0    69168\n",
       "1.0    34143\n",
       "Name: y_true, dtype: int64"
      ]
     },
     "execution_count": 76,
     "metadata": {},
     "output_type": "execute_result"
    }
   ],
   "source": [
    "X_val['y_true'].value_counts()"
   ]
  },
  {
   "cell_type": "code",
   "execution_count": 77,
   "id": "c01c1f73",
   "metadata": {},
   "outputs": [
    {
     "data": {
      "text/plain": [
       "1893"
      ]
     },
     "execution_count": 77,
     "metadata": {},
     "output_type": "execute_result"
    }
   ],
   "source": [
    "X_val[X_val.preds == 1]['user_id'].nunique()"
   ]
  },
  {
   "cell_type": "code",
   "execution_count": 78,
   "id": "9428a061",
   "metadata": {},
   "outputs": [
    {
     "data": {
      "text/plain": [
       "1990"
      ]
     },
     "execution_count": 78,
     "metadata": {},
     "output_type": "execute_result"
    }
   ],
   "source": [
    "X_val['user_id'].nunique()"
   ]
  },
  {
   "cell_type": "code",
   "execution_count": 79,
   "id": "bcd677ba",
   "metadata": {},
   "outputs": [],
   "source": [
    "val_data_result = X_val[X_val['y_true']>0].groupby('user_id')['item_id'].agg(list).reset_index()"
   ]
  },
  {
   "cell_type": "code",
   "execution_count": 80,
   "id": "69a0465a",
   "metadata": {},
   "outputs": [
    {
     "data": {
      "text/html": [
       "<div>\n",
       "<style scoped>\n",
       "    .dataframe tbody tr th:only-of-type {\n",
       "        vertical-align: middle;\n",
       "    }\n",
       "\n",
       "    .dataframe tbody tr th {\n",
       "        vertical-align: top;\n",
       "    }\n",
       "\n",
       "    .dataframe thead th {\n",
       "        text-align: right;\n",
       "    }\n",
       "</style>\n",
       "<table border=\"1\" class=\"dataframe\">\n",
       "  <thead>\n",
       "    <tr style=\"text-align: right;\">\n",
       "      <th></th>\n",
       "      <th>user_id</th>\n",
       "      <th>item_id</th>\n",
       "    </tr>\n",
       "  </thead>\n",
       "  <tbody>\n",
       "    <tr>\n",
       "      <th>0</th>\n",
       "      <td>1</td>\n",
       "      <td>[856942, 856942, 9677939, 6534544, 15971874, 9...</td>\n",
       "    </tr>\n",
       "    <tr>\n",
       "      <th>1</th>\n",
       "      <td>3</td>\n",
       "      <td>[958154]</td>\n",
       "    </tr>\n",
       "  </tbody>\n",
       "</table>\n",
       "</div>"
      ],
      "text/plain": [
       "   user_id                                            item_id\n",
       "0        1  [856942, 856942, 9677939, 6534544, 15971874, 9...\n",
       "1        3                                           [958154]"
      ]
     },
     "execution_count": 80,
     "metadata": {},
     "output_type": "execute_result"
    }
   ],
   "source": [
    "val_data_result.head(2)"
   ]
  },
  {
   "cell_type": "code",
   "execution_count": 81,
   "id": "4f340c25",
   "metadata": {},
   "outputs": [],
   "source": [
    "preds = X_val[X_val['preds']>0].groupby('user_id')['item_id'].agg(list).reset_index()"
   ]
  },
  {
   "cell_type": "code",
   "execution_count": 82,
   "id": "e9872d53",
   "metadata": {},
   "outputs": [
    {
     "data": {
      "text/html": [
       "<div>\n",
       "<style scoped>\n",
       "    .dataframe tbody tr th:only-of-type {\n",
       "        vertical-align: middle;\n",
       "    }\n",
       "\n",
       "    .dataframe tbody tr th {\n",
       "        vertical-align: top;\n",
       "    }\n",
       "\n",
       "    .dataframe thead th {\n",
       "        text-align: right;\n",
       "    }\n",
       "</style>\n",
       "<table border=\"1\" class=\"dataframe\">\n",
       "  <thead>\n",
       "    <tr style=\"text-align: right;\">\n",
       "      <th></th>\n",
       "      <th>user_id</th>\n",
       "      <th>item_id</th>\n",
       "    </tr>\n",
       "  </thead>\n",
       "  <tbody>\n",
       "    <tr>\n",
       "      <th>0</th>\n",
       "      <td>1</td>\n",
       "      <td>[856942, 856942, 9677939, 6534544, 15971874, 9...</td>\n",
       "    </tr>\n",
       "    <tr>\n",
       "      <th>1</th>\n",
       "      <td>3</td>\n",
       "      <td>[958154]</td>\n",
       "    </tr>\n",
       "  </tbody>\n",
       "</table>\n",
       "</div>"
      ],
      "text/plain": [
       "   user_id                                            item_id\n",
       "0        1  [856942, 856942, 9677939, 6534544, 15971874, 9...\n",
       "1        3                                           [958154]"
      ]
     },
     "execution_count": 82,
     "metadata": {},
     "output_type": "execute_result"
    }
   ],
   "source": [
    "preds.head(2)"
   ]
  },
  {
   "cell_type": "code",
   "execution_count": 83,
   "id": "c2871a9c",
   "metadata": {},
   "outputs": [],
   "source": [
    "val_data_result.rename(columns={'item_id':'actual'}, inplace = True)"
   ]
  },
  {
   "cell_type": "code",
   "execution_count": 84,
   "id": "093e810f",
   "metadata": {},
   "outputs": [
    {
     "data": {
      "text/html": [
       "<div>\n",
       "<style scoped>\n",
       "    .dataframe tbody tr th:only-of-type {\n",
       "        vertical-align: middle;\n",
       "    }\n",
       "\n",
       "    .dataframe tbody tr th {\n",
       "        vertical-align: top;\n",
       "    }\n",
       "\n",
       "    .dataframe thead th {\n",
       "        text-align: right;\n",
       "    }\n",
       "</style>\n",
       "<table border=\"1\" class=\"dataframe\">\n",
       "  <thead>\n",
       "    <tr style=\"text-align: right;\">\n",
       "      <th></th>\n",
       "      <th>user_id</th>\n",
       "      <th>item_id</th>\n",
       "    </tr>\n",
       "  </thead>\n",
       "  <tbody>\n",
       "    <tr>\n",
       "      <th>0</th>\n",
       "      <td>1</td>\n",
       "      <td>[856942, 856942, 9677939, 6534544, 15971874, 9...</td>\n",
       "    </tr>\n",
       "    <tr>\n",
       "      <th>1</th>\n",
       "      <td>3</td>\n",
       "      <td>[958154]</td>\n",
       "    </tr>\n",
       "  </tbody>\n",
       "</table>\n",
       "</div>"
      ],
      "text/plain": [
       "   user_id                                            item_id\n",
       "0        1  [856942, 856942, 9677939, 6534544, 15971874, 9...\n",
       "1        3                                           [958154]"
      ]
     },
     "execution_count": 84,
     "metadata": {},
     "output_type": "execute_result"
    }
   ],
   "source": [
    "preds.head(2)"
   ]
  },
  {
   "cell_type": "code",
   "execution_count": 85,
   "id": "6f902c4d",
   "metadata": {},
   "outputs": [],
   "source": [
    "val_data_result = val_data_result.merge(preds, how='left', on='user_id')"
   ]
  },
  {
   "cell_type": "code",
   "execution_count": 86,
   "id": "29429f16",
   "metadata": {},
   "outputs": [
    {
     "data": {
      "text/html": [
       "<div>\n",
       "<style scoped>\n",
       "    .dataframe tbody tr th:only-of-type {\n",
       "        vertical-align: middle;\n",
       "    }\n",
       "\n",
       "    .dataframe tbody tr th {\n",
       "        vertical-align: top;\n",
       "    }\n",
       "\n",
       "    .dataframe thead th {\n",
       "        text-align: right;\n",
       "    }\n",
       "</style>\n",
       "<table border=\"1\" class=\"dataframe\">\n",
       "  <thead>\n",
       "    <tr style=\"text-align: right;\">\n",
       "      <th></th>\n",
       "      <th>user_id</th>\n",
       "      <th>actual</th>\n",
       "      <th>item_id</th>\n",
       "    </tr>\n",
       "  </thead>\n",
       "  <tbody>\n",
       "    <tr>\n",
       "      <th>0</th>\n",
       "      <td>1</td>\n",
       "      <td>[856942, 856942, 9677939, 6534544, 15971874, 9...</td>\n",
       "      <td>[856942, 856942, 9677939, 6534544, 15971874, 9...</td>\n",
       "    </tr>\n",
       "    <tr>\n",
       "      <th>1</th>\n",
       "      <td>3</td>\n",
       "      <td>[958154]</td>\n",
       "      <td>[958154]</td>\n",
       "    </tr>\n",
       "    <tr>\n",
       "      <th>2</th>\n",
       "      <td>6</td>\n",
       "      <td>[14106553, 12731467, 1020683, 15863831, 741017...</td>\n",
       "      <td>[14106553, 12731467, 1020683, 15863831, 741017...</td>\n",
       "    </tr>\n",
       "    <tr>\n",
       "      <th>3</th>\n",
       "      <td>7</td>\n",
       "      <td>[13417587, 861246, 12731506, 10285022, 1045618...</td>\n",
       "      <td>[13417587, 861246, 12731506, 10285022, 1045618...</td>\n",
       "    </tr>\n",
       "    <tr>\n",
       "      <th>4</th>\n",
       "      <td>8</td>\n",
       "      <td>[16223130, 16223130, 1019751, 7168968, 1086196...</td>\n",
       "      <td>[16223130, 16223130, 1019751, 7168968, 1086196...</td>\n",
       "    </tr>\n",
       "  </tbody>\n",
       "</table>\n",
       "</div>"
      ],
      "text/plain": [
       "   user_id                                             actual  \\\n",
       "0        1  [856942, 856942, 9677939, 6534544, 15971874, 9...   \n",
       "1        3                                           [958154]   \n",
       "2        6  [14106553, 12731467, 1020683, 15863831, 741017...   \n",
       "3        7  [13417587, 861246, 12731506, 10285022, 1045618...   \n",
       "4        8  [16223130, 16223130, 1019751, 7168968, 1086196...   \n",
       "\n",
       "                                             item_id  \n",
       "0  [856942, 856942, 9677939, 6534544, 15971874, 9...  \n",
       "1                                           [958154]  \n",
       "2  [14106553, 12731467, 1020683, 15863831, 741017...  \n",
       "3  [13417587, 861246, 12731506, 10285022, 1045618...  \n",
       "4  [16223130, 16223130, 1019751, 7168968, 1086196...  "
      ]
     },
     "execution_count": 86,
     "metadata": {},
     "output_type": "execute_result"
    }
   ],
   "source": [
    "val_data_result.head()"
   ]
  },
  {
   "cell_type": "code",
   "execution_count": 85,
   "id": "71ba3d4a",
   "metadata": {},
   "outputs": [],
   "source": [
    "val_data_result.rename(columns={'item_id':'lightGBM'}, inplace = True)"
   ]
  },
  {
   "cell_type": "code",
   "execution_count": 86,
   "id": "56ad5c5e",
   "metadata": {},
   "outputs": [
    {
     "data": {
      "text/html": [
       "<div>\n",
       "<style scoped>\n",
       "    .dataframe tbody tr th:only-of-type {\n",
       "        vertical-align: middle;\n",
       "    }\n",
       "\n",
       "    .dataframe tbody tr th {\n",
       "        vertical-align: top;\n",
       "    }\n",
       "\n",
       "    .dataframe thead th {\n",
       "        text-align: right;\n",
       "    }\n",
       "</style>\n",
       "<table border=\"1\" class=\"dataframe\">\n",
       "  <thead>\n",
       "    <tr style=\"text-align: right;\">\n",
       "      <th></th>\n",
       "      <th>user_id</th>\n",
       "      <th>actual</th>\n",
       "      <th>lightGBM</th>\n",
       "    </tr>\n",
       "  </thead>\n",
       "  <tbody>\n",
       "    <tr>\n",
       "      <th>0</th>\n",
       "      <td>1</td>\n",
       "      <td>[856942, 856942, 9677939, 6534544, 15971874, 9...</td>\n",
       "      <td>[856942, 856942, 9677939, 6534544, 15971874, 9...</td>\n",
       "    </tr>\n",
       "    <tr>\n",
       "      <th>1</th>\n",
       "      <td>3</td>\n",
       "      <td>[958154]</td>\n",
       "      <td>[958154]</td>\n",
       "    </tr>\n",
       "    <tr>\n",
       "      <th>2</th>\n",
       "      <td>6</td>\n",
       "      <td>[14106553, 12731467, 1020683, 15863831, 741017...</td>\n",
       "      <td>[14106553, 12731467, 1020683, 15863831, 741017...</td>\n",
       "    </tr>\n",
       "    <tr>\n",
       "      <th>3</th>\n",
       "      <td>7</td>\n",
       "      <td>[13417587, 861246, 12731506, 10285022, 1045618...</td>\n",
       "      <td>[13417587, 861246, 12731506, 10285022, 1045618...</td>\n",
       "    </tr>\n",
       "    <tr>\n",
       "      <th>4</th>\n",
       "      <td>8</td>\n",
       "      <td>[16223130, 16223130, 1019751, 7168968, 1086196...</td>\n",
       "      <td>[16223130, 16223130, 1019751, 7168968, 1086196...</td>\n",
       "    </tr>\n",
       "  </tbody>\n",
       "</table>\n",
       "</div>"
      ],
      "text/plain": [
       "   user_id                                             actual  \\\n",
       "0        1  [856942, 856942, 9677939, 6534544, 15971874, 9...   \n",
       "1        3                                           [958154]   \n",
       "2        6  [14106553, 12731467, 1020683, 15863831, 741017...   \n",
       "3        7  [13417587, 861246, 12731506, 10285022, 1045618...   \n",
       "4        8  [16223130, 16223130, 1019751, 7168968, 1086196...   \n",
       "\n",
       "                                            lightGBM  \n",
       "0  [856942, 856942, 9677939, 6534544, 15971874, 9...  \n",
       "1                                           [958154]  \n",
       "2  [14106553, 12731467, 1020683, 15863831, 741017...  \n",
       "3  [13417587, 861246, 12731506, 10285022, 1045618...  \n",
       "4  [16223130, 16223130, 1019751, 7168968, 1086196...  "
      ]
     },
     "execution_count": 86,
     "metadata": {},
     "output_type": "execute_result"
    }
   ],
   "source": [
    "val_data_result.head()"
   ]
  },
  {
   "cell_type": "code",
   "execution_count": 87,
   "id": "eb13a132",
   "metadata": {},
   "outputs": [],
   "source": [
    "def precision_at_k(recommended_list, bought_list, k=5):\n",
    "    \n",
    "    bought_list = np.array(bought_list)\n",
    "    recommended_list = np.array(recommended_list)\n",
    "    \n",
    "    bought_list = bought_list  # Тут нет [:k] !!\n",
    "    try:\n",
    "        recommended_list = recommended_list[:k]\n",
    "    except:\n",
    "        recommended_list = []\n",
    "    \n",
    "    flags = np.isin(bought_list, recommended_list)\n",
    "    \n",
    "    precision = flags.sum() / len(recommended_list)\n",
    "    \n",
    "    \n",
    "    return precision"
   ]
  },
  {
   "cell_type": "code",
   "execution_count": 88,
   "id": "a12cf26e",
   "metadata": {},
   "outputs": [
    {
     "name": "stderr",
     "output_type": "stream",
     "text": [
      "C:\\Users\\user\\AppData\\Local\\Temp\\ipykernel_15096\\1246819944.py:14: RuntimeWarning: invalid value encountered in long_scalars\n",
      "  precision = flags.sum() / len(recommended_list)\n"
     ]
    },
    {
     "data": {
      "text/plain": [
       "1.0156002115282918"
      ]
     },
     "execution_count": 88,
     "metadata": {},
     "output_type": "execute_result"
    }
   ],
   "source": [
    "val_data_result.apply(lambda row: precision_at_k(row['lightGBM'], row['actual']), axis=1).mean()"
   ]
  },
  {
   "cell_type": "code",
   "execution_count": null,
   "id": "db9e25af",
   "metadata": {},
   "outputs": [],
   "source": []
  },
  {
   "cell_type": "code",
   "execution_count": null,
   "id": "fa1bb31b",
   "metadata": {},
   "outputs": [],
   "source": []
  },
  {
   "cell_type": "code",
   "execution_count": null,
   "id": "81e60cfa",
   "metadata": {},
   "outputs": [],
   "source": []
  }
 ],
 "metadata": {
  "kernelspec": {
   "display_name": "Python 3 (ipykernel)",
   "language": "python",
   "name": "python3"
  },
  "language_info": {
   "codemirror_mode": {
    "name": "ipython",
    "version": 3
   },
   "file_extension": ".py",
   "mimetype": "text/x-python",
   "name": "python",
   "nbconvert_exporter": "python",
   "pygments_lexer": "ipython3",
   "version": "3.8.5"
  }
 },
 "nbformat": 4,
 "nbformat_minor": 5
}
